{
 "cells": [
  {
   "cell_type": "markdown",
   "metadata": {},
   "source": [
    "# Introduction"
   ]
  },
  {
   "cell_type": "markdown",
   "metadata": {},
   "source": [
    "For any developing musical artist, building an engaged following is the key to growing your career.  Today, in the age of social media, it is easier than ever for a musician to build a global fanbase online.  \n",
    "\n",
    "Social media fans can be transient, though, and the reality is it is less clear than ever where to start when it comes to organically building a local and regional fanbase from the ground-up, especially for artists on a limited budget.\n",
    "\n",
    "GOALS:\n",
    "- Classify a set of 3rd- and 4th-tier US cities by their taste for various musical genres\n",
    "- Use the results to define genre “archetypes\" for each set of cities that artists can reference when planning their live tour routes\n",
    "- Derive insights about which genres are well-received in a given city AND which genres are not well-received\n",
    "- Come up with as equal-sized clusters as possible, so that each cluster will contain a set of multiple recommended cities for touring through. "
   ]
  },
  {
   "cell_type": "code",
   "execution_count": 3,
   "metadata": {},
   "outputs": [],
   "source": [
    "import requests\n",
    "from bs4 import BeautifulSoup\n",
    "import datetime\n",
    "import pandas as pd\n",
    "import spotipy\n",
    "from spotipy.oauth2 import SpotifyClientCredentials\n",
    "import json\n",
    "import urllib.request\n",
    "import matplotlib\n",
    "import matplotlib.pyplot as plt\n",
    "from scipy.cluster.hierarchy import dendrogram, ward, average, centroid, complete, weighted\n",
    "from sklearn import metrics"
   ]
  },
  {
   "cell_type": "markdown",
   "metadata": {},
   "source": [
    "# Import data\n",
    "\n",
    "I will use each Billboard's top 100 emerging artists list, as published on a weekly basis from 2018 to early 2020, to generate a list of several hundred artists whose tour itineraries I will pull from Songkick."
   ]
  },
  {
   "cell_type": "markdown",
   "metadata": {},
   "source": [
    "## Scrape list of emerging artists from Billboard\n",
    "### Create list of all dates in 2018, 2019, and early 2020 that fall on a Saturday (for concatenation with URL)"
   ]
  },
  {
   "cell_type": "code",
   "execution_count": 2,
   "metadata": {},
   "outputs": [],
   "source": [
    "# SOURCE:  https://stackoverflow.com/questions/993358/creating-a-range-of-dates-in-python\n",
    "# compile list of every saturday in 2019 and Jan-Feb 2020, in Year-Month-Day format\n",
    "\n",
    "weeks = []\n",
    "\n",
    "start = datetime.datetime.strptime(\"2018-01-06\", \"%Y-%m-%d\")\n",
    "end = datetime.datetime.strptime(\"2020-02-29\", \"%Y-%m-%d\")\n",
    "date_generated = [start + datetime.timedelta(weeks=x) for x in range(0, (end-start).days)]\n",
    "\n",
    "for date in date_generated:\n",
    "    weeks.append(date.strftime(\"%Y-%m-%d\"))\n",
    "    \n",
    "weeks = weeks[0:113]"
   ]
  },
  {
   "cell_type": "code",
   "execution_count": 3,
   "metadata": {},
   "outputs": [
    {
     "name": "stdout",
     "output_type": "stream",
     "text": [
      "2018-01-06\n",
      "2020-02-29\n"
     ]
    }
   ],
   "source": [
    "print(weeks[0])\n",
    "print(weeks[112])"
   ]
  },
  {
   "cell_type": "markdown",
   "metadata": {},
   "source": [
    "### Scrape names of top 50 emerging artists for each week in date list, removing duplicates"
   ]
  },
  {
   "cell_type": "code",
   "execution_count": 4,
   "metadata": {},
   "outputs": [],
   "source": [
    "artists_scrape = []\n",
    "\n",
    "for w in weeks:\n",
    "    url = 'https://www.billboard.com/charts/emerging-artists/' + w\n",
    "    page = requests.get(url)\n",
    "    soup = BeautifulSoup(page.content, 'html.parser')\n",
    "    \n",
    "    artistsoup = soup.find_all('div', class_='item-details__title')\n",
    "    for a in artistsoup:\n",
    "        name = a.get_text()\n",
    "        if name in artists_scrape:\n",
    "            continue\n",
    "        else:\n",
    "            artists_scrape.append(name)"
   ]
  },
  {
   "cell_type": "code",
   "execution_count": 5,
   "metadata": {},
   "outputs": [
    {
     "data": {
      "text/plain": [
       "829"
      ]
     },
     "execution_count": 5,
     "metadata": {},
     "output_type": "execute_result"
    }
   ],
   "source": [
    "len(artists_scrape)"
   ]
  },
  {
   "cell_type": "code",
   "execution_count": 6,
   "metadata": {},
   "outputs": [
    {
     "data": {
      "text/plain": [
       "['LANCO',\n",
       " 'Russell Dickerson',\n",
       " 'MAX',\n",
       " 'Walker Hayes',\n",
       " 'Lil Xan',\n",
       " 'Zacari',\n",
       " 'YBN Nahmir',\n",
       " 'Trippie Redd',\n",
       " 'Devin Dawson',\n",
       " 'GoldLink',\n",
       " 'Zendaya',\n",
       " 'Jacquees',\n",
       " 'Tay-K',\n",
       " 'Logan Paul',\n",
       " 'Lil Baby',\n",
       " 'Tee Grizzley',\n",
       " 'Lauv',\n",
       " 'Louis Tomlinson',\n",
       " 'Lil Skies',\n",
       " 'Sofi Tukker',\n",
       " 'Dylan Scott',\n",
       " 'Christian Nodal',\n",
       " 'Big Shaq',\n",
       " 'Alice Merton',\n",
       " 'Swae Lee',\n",
       " 'High Valley',\n",
       " 'Bhad Bhabie',\n",
       " 'Jordan Davis',\n",
       " 'Anitta',\n",
       " 'Alan Walker',\n",
       " 'Greta Van Fleet',\n",
       " 'Wanna One',\n",
       " 'The Revivalists',\n",
       " 'AJR',\n",
       " 'YFN Lucci',\n",
       " 'HRVY',\n",
       " 'Famous Dex',\n",
       " 'Carly Pearce',\n",
       " \"Auli'i Cravalho\",\n",
       " 'Yung Bleu',\n",
       " 'Natti Natasha',\n",
       " 'Keala Settle',\n",
       " 'TakeOff',\n",
       " 'DeJ Loaf',\n",
       " 'Nego do Borel',\n",
       " 'MONSTA X',\n",
       " 'Loren Allred',\n",
       " 'Sabrina Carpenter',\n",
       " 'Alta Consigna',\n",
       " \"Rag'n'Bone Man\",\n",
       " 'The Bellas',\n",
       " 'Blac Youngsta',\n",
       " 'Jeff Rosenstock',\n",
       " 'Andra Day',\n",
       " 'Just Chase',\n",
       " 'Lexy Panterra',\n",
       " 'Chris Lane',\n",
       " 'watt',\n",
       " 'Morgan Wallen',\n",
       " 'Sebastian Yatra',\n",
       " 'Tauren Wells',\n",
       " 'Nacho',\n",
       " 'Billie Eilish',\n",
       " 'Rita Ora',\n",
       " 'Watain',\n",
       " 'Layton Greene',\n",
       " \"Derez De'Shon\",\n",
       " 'Landon Cube',\n",
       " 'Anderson East',\n",
       " 'Avatar',\n",
       " 'Typhoon',\n",
       " 'Tonight Alive',\n",
       " 'Ansel Elgort',\n",
       " 'Bazzi',\n",
       " 'Ty Tabor',\n",
       " 'GENTRI',\n",
       " 'Rich The Kid',\n",
       " 'EDEN',\n",
       " 'Cane Hill',\n",
       " 'Caleb + Kelsey',\n",
       " 'tUnE-YaRdS',\n",
       " 'Queen Naija',\n",
       " 'Jason Manns',\n",
       " 'H.E.R.',\n",
       " 'Bad Wolves',\n",
       " 'Bahamas',\n",
       " 'Moon Taxi',\n",
       " 'Cory Asbury',\n",
       " 'Waterparks',\n",
       " 'Ty Segall',\n",
       " 'Red Velvet',\n",
       " 'Evidence',\n",
       " 'Mike Shinoda',\n",
       " 'Tiny Moving Parts',\n",
       " 'Kali Uchis',\n",
       " 'Sleeping Giant',\n",
       " 'The Dangerous Summer',\n",
       " 'Madison Beer',\n",
       " 'Rhye',\n",
       " \"Why Don't We\",\n",
       " 'Bishop Briggs',\n",
       " 'The Wood Brothers',\n",
       " 'Jon Langston',\n",
       " 'SOB X RBE',\n",
       " 'The Wombats',\n",
       " 'Saudi',\n",
       " 'Good Tiger',\n",
       " 'DJ Kass',\n",
       " 'Jorja Smith',\n",
       " 'Anne-Marie',\n",
       " 'Jordan Feliz',\n",
       " \"I'm With Her\",\n",
       " 'Car Seat Headrest',\n",
       " 'Slaves',\n",
       " 'Normani',\n",
       " 'The Plot In You',\n",
       " 'Superchunk',\n",
       " '6LACK',\n",
       " 'American Nightmare',\n",
       " 'Pianos Become The Teeth',\n",
       " 'John Corabi',\n",
       " 'Agust D',\n",
       " 'j-hope',\n",
       " 'Dessa',\n",
       " 'Turnstile',\n",
       " 'Big Smo',\n",
       " 'Screaming Females',\n",
       " 'Phonte',\n",
       " 'Tracey Thorn',\n",
       " 'Lucius',\n",
       " 'Calum Scott',\n",
       " 'Titus Andronicus',\n",
       " 'Joyner Lucas',\n",
       " 'Superorganism',\n",
       " 'The Band Of Heathens',\n",
       " 'Moose Blood',\n",
       " 'Trixie Mattel',\n",
       " 'Stefflon Don',\n",
       " 'lovelytheband',\n",
       " 'PRhyme',\n",
       " 'Adam Calhoun',\n",
       " 'NCT',\n",
       " 'Rich Homie Quan',\n",
       " 'Hot Snakes',\n",
       " 'Ella Mai',\n",
       " 'Saweetie',\n",
       " 'Rivers Of Nihil',\n",
       " 'Chiquis Rivera',\n",
       " 'DOROTHY',\n",
       " 'Todrick Hall',\n",
       " 'Paul Thorn',\n",
       " 'Dynamite Dylan',\n",
       " 'Lissie',\n",
       " 'Ashley McBryde',\n",
       " 'Light The Torch',\n",
       " 'The Voidz',\n",
       " 'Gesaffelstein',\n",
       " 'Red Sun Rising',\n",
       " 'King Gizzard And The Lizard Wizard',\n",
       " 'Jukebox The Ghost',\n",
       " 'Dr. Octagon',\n",
       " 'Allen Stone',\n",
       " 'Hop Along',\n",
       " 'Alina Baraz',\n",
       " 'The Aquabats!',\n",
       " 'Unknown Mortal Orchestra',\n",
       " 'Wye Oak',\n",
       " 'Poo Bear',\n",
       " 'LEDGER',\n",
       " 'Prof',\n",
       " 'El Chombo',\n",
       " 'Raymix',\n",
       " 'Nekrogoblikon',\n",
       " 'From Ashes To New',\n",
       " 'Drew Love',\n",
       " 'TesseracT',\n",
       " 'Morgan Evans',\n",
       " 'My Silent Bravery',\n",
       " 'Tammy Rivera',\n",
       " 'Mason Ramsey',\n",
       " 'Pryor Baird',\n",
       " 'Britton Buchanan',\n",
       " 'NCT 127',\n",
       " 'Stray Kids',\n",
       " 'Frank Turner',\n",
       " 'Trampled By Turtles',\n",
       " 'Shakey Graves',\n",
       " 'Black Moth Super Rainbow',\n",
       " 'Wolfine',\n",
       " 'Juice WRLD',\n",
       " 'Slim Jxmmi',\n",
       " 'The Word Alive',\n",
       " 'Kyla Jade',\n",
       " 'Drake White',\n",
       " 'Brynn Cartelli',\n",
       " 'Kaleb Lee',\n",
       " 'Brent Cobb',\n",
       " 'Joji',\n",
       " 'Spensha Baker',\n",
       " 'Lindsay Ell',\n",
       " 'Two Feet',\n",
       " 'Sheku Kanneh-Mason',\n",
       " 'Maddie Poppe',\n",
       " 'Kris Wu',\n",
       " 'Parquet Courts',\n",
       " 'Iration',\n",
       " 'Karen Gibson & The Kingdom Choir',\n",
       " 'Dana Fuchs',\n",
       " 'Trent Harmon',\n",
       " 'Caleb Lee Hutchinson',\n",
       " 'Gabby Barrett',\n",
       " 'Gunna',\n",
       " 'Influence Music',\n",
       " 'Jackson Wang',\n",
       " 'Tyla Yaweh',\n",
       " 'Graveyard',\n",
       " 'Jude Demorest',\n",
       " 'Skepta',\n",
       " 'DJ SPINKING',\n",
       " 'American Aquarium',\n",
       " 'Dennis Lloyd',\n",
       " 'Gruesome',\n",
       " 'Caroline Jones',\n",
       " 'HoodCelebrityy',\n",
       " 'TK Kravitz',\n",
       " 'BTOB',\n",
       " 'Sutton Foster',\n",
       " 'Sir Sly',\n",
       " 'YOB',\n",
       " 'Snail Mail',\n",
       " 'Lali',\n",
       " 'Colt McBee',\n",
       " 'Yella Beezy',\n",
       " 'BLACKPINK',\n",
       " 'Peter Hollens',\n",
       " 'R+R=NOW',\n",
       " 'Culture Abuse',\n",
       " 'Cody Jinks',\n",
       " \"Melody's Echo Chamber\",\n",
       " 'Ski Mask The Slump God',\n",
       " 'DAY6',\n",
       " 'The Record Company',\n",
       " 'Death Grips',\n",
       " 'Kamasi Washington',\n",
       " 'This Wild Life',\n",
       " 'Zaytoven',\n",
       " 'Hikaru Utada',\n",
       " 'Vein',\n",
       " 'Freddie Gibbs',\n",
       " 'Like A Storm',\n",
       " 'The Interrupters',\n",
       " 'Copilot Music + Sound',\n",
       " 'Tyler Childers',\n",
       " 'Riley Green',\n",
       " 'The Milk Carton Kids',\n",
       " 'The Wild Feathers',\n",
       " 'Wes Cook Band',\n",
       " 'Protoje',\n",
       " 'Darell',\n",
       " 'Karol G',\n",
       " 'Mitchell Tenpenny',\n",
       " 'Steve Grand',\n",
       " 'Luan Santana',\n",
       " 'Dzeko',\n",
       " 'Deafheaven',\n",
       " 'Anuel AA',\n",
       " 'G-Mo Skee',\n",
       " 'Hopesfall',\n",
       " 'Bryce Vine',\n",
       " 'Amy Shark',\n",
       " 'benny blanco',\n",
       " 'MAMAMOO',\n",
       " 'Lydia',\n",
       " 'Covet',\n",
       " 'The Internet',\n",
       " 'Meg Myers',\n",
       " 'Lori McKenna',\n",
       " 'Skeletonwitch',\n",
       " 'Trash Boat',\n",
       " 'Powerwolf',\n",
       " 'The Agony Scene',\n",
       " 'Pat Barrett',\n",
       " 'Elley Duhe',\n",
       " 'Elias',\n",
       " 'Popcaan',\n",
       " 'Denzel Curry',\n",
       " 'Bryant Myers',\n",
       " 'Rex Orange County',\n",
       " 'DJ Durel',\n",
       " 'Emily Warren',\n",
       " 'iKON',\n",
       " 'Loud Luxury',\n",
       " 'Zhavia Ward',\n",
       " 'Amanda Shires',\n",
       " 'Houndmouth.',\n",
       " \"Lil' Duval\",\n",
       " 'BAEKHYUN',\n",
       " 'Lil Donald',\n",
       " 'Trophy Eyes',\n",
       " 'With Confidence',\n",
       " 'Gabbie Hanna',\n",
       " 'ERRA',\n",
       " 'As It Is',\n",
       " 'The Magpie Salute',\n",
       " 'Foxing',\n",
       " 'Jake Shears',\n",
       " 'William Clark Green',\n",
       " '(G)I-DLE',\n",
       " 'Jimmie Allen',\n",
       " 'Labrinth',\n",
       " 'Mitski',\n",
       " 'LOONA',\n",
       " 'Lele Pons',\n",
       " 'Sheck Wes',\n",
       " 'Smokepurpp',\n",
       " 'Kina Grannis',\n",
       " 'OSEES',\n",
       " 'WHY?',\n",
       " 'Murder By Death',\n",
       " 'NCT DREAM',\n",
       " 'Nothing',\n",
       " 'Bas',\n",
       " 'The Devil Makes Three',\n",
       " 'Manuel Turizo',\n",
       " 'Blood Orange',\n",
       " 'Devotchka',\n",
       " 'KUN',\n",
       " 'White Denim',\n",
       " 'Tash Sultana',\n",
       " 'Jessie Reyez',\n",
       " 'Big Red Machine',\n",
       " 'Wild Nothing',\n",
       " 'Thou',\n",
       " 'Underground Avengers',\n",
       " 'Lil Mosey',\n",
       " 'St. Paul & The Broken Bones',\n",
       " 'Silk City',\n",
       " 'Flipp Dinero',\n",
       " 'Pig Destroyer',\n",
       " 'Noah Cyrus',\n",
       " 'YNW Melly',\n",
       " 'Metal Allegiance',\n",
       " 'Jerad Finck',\n",
       " 'Low',\n",
       " 'Pale Waves',\n",
       " 'Lakewood Music',\n",
       " 'Dean Lewis',\n",
       " 'Jump (Little Children)',\n",
       " 'Pardison Fontaine',\n",
       " 'Dinah Jane',\n",
       " 'The Midnight',\n",
       " 'Christine And The Queens',\n",
       " 'Badflower',\n",
       " 'Aborted',\n",
       " 'Palaye Royale',\n",
       " 'John Butler Trio',\n",
       " 'Tilian',\n",
       " 'Hail The Sun',\n",
       " 'Pinkfong',\n",
       " 'Sosamann',\n",
       " 'Revocation',\n",
       " 'Terror',\n",
       " 'Matteo Bocelli',\n",
       " 'The Black Lillies',\n",
       " 'Alla Xul Elu',\n",
       " 'Ice Nine Kills',\n",
       " 'Gregory Alan Isakov',\n",
       " 'LANY',\n",
       " 'GUNSHIP',\n",
       " 'Mozzy',\n",
       " 'LAY',\n",
       " 'Marcus King',\n",
       " 'Phosphorescent',\n",
       " 'Windhand',\n",
       " 'Anderson .Paak',\n",
       " 'Phora',\n",
       " 'Polyphia',\n",
       " 'Colter Wall',\n",
       " 'Uncle Acid & The Deadbeats',\n",
       " 'Shy Glizzy',\n",
       " 'Justin Courtney Pierre',\n",
       " 'Beres Hammond',\n",
       " 'flora cash',\n",
       " 'RM',\n",
       " 'Lauren Jauregui',\n",
       " 'Summer Walker',\n",
       " 'Minus The Bear',\n",
       " 'Amaranthe',\n",
       " 'RUFUS DU SOL',\n",
       " 'The Struts',\n",
       " 'Fight The Fury',\n",
       " \"Whitey Morgan And The 78's\",\n",
       " 'Haken',\n",
       " 'Maggie Rogers',\n",
       " 'K/DA',\n",
       " 'JD McPherson',\n",
       " 'Ava Max',\n",
       " 'Architects UK',\n",
       " 'I Dont Know How But They Found Me',\n",
       " 'Boygenius',\n",
       " 'Jeff Goldblum',\n",
       " 'JENNIE',\n",
       " 'Larkin Poe',\n",
       " 'Laura Jane Grace',\n",
       " 'La Dispute',\n",
       " 'Red Dragon Cartel',\n",
       " 'Nita Strauss',\n",
       " 'City Girls',\n",
       " 'Conan Gray',\n",
       " 'DaniLeigh',\n",
       " 'Kirk Jay',\n",
       " 'Lennon Stella',\n",
       " 'Reagan Strange',\n",
       " 'J.I.D',\n",
       " 'Small Town Titans',\n",
       " 'Kymberli Joye',\n",
       " 'SHAED',\n",
       " 'Kennedy Holmes',\n",
       " 'Chevel Shepherd',\n",
       " 'EXID',\n",
       " 'Sarah Grace',\n",
       " 'The Glorious Sons',\n",
       " 'Brian Grilli',\n",
       " 'LP',\n",
       " 'Calboy',\n",
       " 'Coca Vango',\n",
       " 'MaKenzie Thomas',\n",
       " 'Chris Kroeze',\n",
       " 'LadBaby',\n",
       " 'We Three',\n",
       " 'Winona Oak',\n",
       " 'Roddy Ricch',\n",
       " 'Paulo Londra',\n",
       " 'ASTRO',\n",
       " 'Banda Los Sebastianes de Mazatlan, Sinaloa.',\n",
       " 'Virlan Garcia',\n",
       " 'TVXQ!',\n",
       " 'Fiersa Besari',\n",
       " 'Palisades',\n",
       " 'Bag Raiders',\n",
       " 'Alec Benjamin',\n",
       " 'Blueface',\n",
       " 'Brando',\n",
       " 'Lizzo',\n",
       " 'Cosmo Sheldrake',\n",
       " 'Josh Baldwin',\n",
       " 'We Are Messengers',\n",
       " 'Kero Kero Bonito',\n",
       " 'WayV',\n",
       " 'Jinjer',\n",
       " 'Afterlife',\n",
       " 'The Last Ten Seconds Of Life',\n",
       " 'dodie',\n",
       " 'Pedro The Lion',\n",
       " 'The Steel Woods',\n",
       " 'Tenille Arts',\n",
       " 'FEVER 333',\n",
       " 'Mustard',\n",
       " 'Greensky Bluegrass',\n",
       " 'Flatland Cavalry',\n",
       " 'Rival Sons',\n",
       " 'Boogie',\n",
       " 'FIDLAR',\n",
       " 'William Tyler',\n",
       " 'Better Oblivion Community Center',\n",
       " 'Set It Off',\n",
       " 'Mandolin Orange',\n",
       " 'Beirut',\n",
       " 'The Singing Contractors',\n",
       " 'Le Butcherettes',\n",
       " 'Boy Harsher',\n",
       " 'Emily King',\n",
       " 'Emarosa',\n",
       " 'FLETCHER',\n",
       " 'DaVido',\n",
       " 'Beast In Black',\n",
       " 'Jessica Pratt',\n",
       " 'TAEMIN',\n",
       " 'HEALTH',\n",
       " 'HARDY',\n",
       " 'Hayes Carll',\n",
       " 'ONE OK ROCK',\n",
       " 'Copeland',\n",
       " 'YK Osiris',\n",
       " 'Homeshake',\n",
       " 'J.S. Ondara',\n",
       " 'Crystal Lake',\n",
       " 'Betty Who',\n",
       " 'YUNGBLUD',\n",
       " 'SWMRS',\n",
       " \"NU'EST\",\n",
       " 'Claypool Lennon Delirium',\n",
       " 'Eliot Morris',\n",
       " 'Last In Line',\n",
       " 'NLE Choppa',\n",
       " 'Austin French',\n",
       " 'Delain',\n",
       " 'Tyler Rich',\n",
       " 'Albee Al',\n",
       " 'TOMORROW X TOGETHER',\n",
       " 'Mark Morton',\n",
       " 'Lil Nas X',\n",
       " 'Marianas Trench',\n",
       " 'Masked Intruder',\n",
       " 'Reese Wynans',\n",
       " 'Durand Jones & The Indications',\n",
       " 'The Japanese House',\n",
       " 'Mabel',\n",
       " 'Foals',\n",
       " 'Megan Thee Stallion',\n",
       " 'Our Last Night',\n",
       " 'The Coathangers',\n",
       " 'Sigrid',\n",
       " 'Nicole Bus',\n",
       " 'Tyr',\n",
       " 'Misery Index',\n",
       " 'The Bonfyre',\n",
       " 'Park Bom',\n",
       " 'Kiana Lede',\n",
       " 'Tal Wilkenfeld',\n",
       " 'I AM THEY',\n",
       " '42 Dugg',\n",
       " 'Ally Brooke',\n",
       " 'Wallows',\n",
       " 'Ex Hex',\n",
       " 'The End Machine',\n",
       " 'Ally Venable',\n",
       " 'PNL',\n",
       " 'Strand Of Oaks',\n",
       " 'PeeZy',\n",
       " 'Victoria Monet',\n",
       " 'Freya Ridings',\n",
       " 'Simple Creatures',\n",
       " 'Polo G',\n",
       " 'PUP',\n",
       " 'Weyes Blood',\n",
       " 'The Hu',\n",
       " 'Enterprise Earth',\n",
       " 'SAFE',\n",
       " 'Molly Tuttle',\n",
       " 'Hit-Boy',\n",
       " 'Sunn 0)))',\n",
       " 'Luh Kel',\n",
       " 'The Budos Band',\n",
       " 'John Paul White',\n",
       " 'Big Business',\n",
       " 'Soccer Mommy',\n",
       " 'Jade Bird',\n",
       " 'Lewis Capaldi',\n",
       " 'Allegaeon',\n",
       " 'Lil Tjay',\n",
       " 'Secret Band',\n",
       " 'Sech',\n",
       " 'Tenille Townes',\n",
       " 'Kevin Abstract',\n",
       " 'Catfish And The Bottlemen',\n",
       " 'Cokie The Clown',\n",
       " 'New Years Day',\n",
       " 'Starflyer 59',\n",
       " 'Kevin Morby',\n",
       " 'The Damned Things',\n",
       " \"Bear's Den\",\n",
       " 'Kelly Finnigan',\n",
       " 'Big Thief',\n",
       " 'Maelyn Jarmon',\n",
       " 'Jon Z',\n",
       " 'Tank And The Bangas',\n",
       " 'Ari Lennox',\n",
       " 'Titus Showers',\n",
       " 'Aaron West And The Roaring Twenties ',\n",
       " 'Defeater',\n",
       " 'Lunay',\n",
       " 'Gyth Rigdon',\n",
       " 'Quando Rondo',\n",
       " 'NateWantsToBattle',\n",
       " 'Charly Bliss',\n",
       " 'Dexter Roberts',\n",
       " 'Arch / Matheos',\n",
       " 'Jamila Woods',\n",
       " 'Laine Hardy',\n",
       " 'Andrew Sevener',\n",
       " 'Christone \"Kingfish\" Ingram',\n",
       " 'Full Of Hell',\n",
       " 'Famous Last Words',\n",
       " 'Tisakorean',\n",
       " 'Shordie Shordie',\n",
       " 'Beast Coast',\n",
       " 'Naomi Scott',\n",
       " 'Money Man',\n",
       " 'Collie Buddz',\n",
       " 'Lil Tecca',\n",
       " 'Beasto Blanco',\n",
       " 'Amyl And The Sniffers',\n",
       " 'Cate Le Bon',\n",
       " 'ATEEZ',\n",
       " 'Yung Gravy',\n",
       " 'Kishi Bashi',\n",
       " 'Gloryhammer',\n",
       " 'Frank Iero',\n",
       " 'Jai Paul',\n",
       " 'Frankie Moreno',\n",
       " 'Blanco Brown',\n",
       " 'Tainy',\n",
       " 'Remo Drive',\n",
       " 'Ian Noe',\n",
       " 'Dominic Fike',\n",
       " 'Chon',\n",
       " 'Cochren & Co.',\n",
       " 'Runaway June',\n",
       " 'Switch',\n",
       " 'Ambjaay',\n",
       " 'Lukas Nelson & Promise Of The Real',\n",
       " 'Ali Gatie',\n",
       " 'The Sound Of Animals Fighting',\n",
       " 'Noah Kahan',\n",
       " 'Jamestown Revival',\n",
       " 'GFriend',\n",
       " 'Koe Wetzel',\n",
       " 'Awake At Last',\n",
       " 'Black Pumas',\n",
       " 'Benny The Butcher',\n",
       " 'Thank You Scientist',\n",
       " 'Hatchie',\n",
       " 'LIL PHAG',\n",
       " 'Mannequin Pussy',\n",
       " 'bbno$',\n",
       " 'Y2K',\n",
       " 'Jeff Williams',\n",
       " 'The Allman Betts Band',\n",
       " 'Heilung',\n",
       " 'Kim Petras',\n",
       " 'Mariachi Herencia de Mexico',\n",
       " 'Chase Atlantic',\n",
       " 'Michael Kiwanuka',\n",
       " 'Scarypoolparty',\n",
       " 'Abbath',\n",
       " '3Teeth',\n",
       " 'Lute',\n",
       " 'Young Nudy',\n",
       " 'EARTHGANG',\n",
       " 'Fuerza Regida',\n",
       " 'YEBBA',\n",
       " 'Sueco The Child',\n",
       " 'Westside Gunn',\n",
       " 'Purple Mountains',\n",
       " 'Torche',\n",
       " 'Oh, Sleeper',\n",
       " 'Khruangbin',\n",
       " 'Matt Stell',\n",
       " 'k.flay',\n",
       " 'Drab Majesty',\n",
       " 'The Dollyrots',\n",
       " 'Ingrid Andress',\n",
       " 'Tomb Mold',\n",
       " 'Ryan Hurd',\n",
       " 'WizKid',\n",
       " 'SAINt JHN',\n",
       " 'Paula Nelson',\n",
       " 'CAAMP',\n",
       " 'Cuco',\n",
       " 'iTZY',\n",
       " 'BJ The Chicago Kid',\n",
       " 'Burna Boy',\n",
       " 'Clairo',\n",
       " 'X1',\n",
       " 'Penny And Sparrow',\n",
       " 'The Highwomen',\n",
       " 'Bad Omens',\n",
       " 'Sofia Carson',\n",
       " 'The Teskey Brothers',\n",
       " 'Northlane',\n",
       " 'Josh Garrels',\n",
       " 'half alive',\n",
       " 'Wilder Woods',\n",
       " 'Ugly God',\n",
       " 'Dame D.O.L.L.A.',\n",
       " 'The Contortionist',\n",
       " 'Snoh Aalegra',\n",
       " 'Pop Smoke',\n",
       " 'Shadow Of Intent',\n",
       " 'Doja Cat',\n",
       " 'Rosalia',\n",
       " 'oso oso',\n",
       " 'Matt Maeson',\n",
       " 'Tones And I',\n",
       " 'Knocked Loose',\n",
       " 'Rapsody',\n",
       " 'Chord Overstreet',\n",
       " 'Koffee',\n",
       " 'Quinn XCII',\n",
       " 'Witt Lowry',\n",
       " 'Wage War',\n",
       " 'Whitney',\n",
       " 'SiR',\n",
       " 'Saint Motel',\n",
       " 'Sam Feldt',\n",
       " 'Haiti Babii',\n",
       " 'Grayscale',\n",
       " 'Bat For Lashes',\n",
       " 'Paul Cauthen',\n",
       " 'Barns Courtney',\n",
       " '9lokknine',\n",
       " 'SuperM',\n",
       " 'Chelsea Wolfe',\n",
       " 'KXM',\n",
       " 'Hobo Johnson',\n",
       " '(Sandy) Alex G',\n",
       " 'Joseph',\n",
       " 'Infant Annihilator',\n",
       " '24kGoldn',\n",
       " 'Microwave',\n",
       " 'Myke Towers',\n",
       " 'Twin Peaks',\n",
       " 'Regard',\n",
       " 'Samantha Fish',\n",
       " 'King Von',\n",
       " 'Sleep On It',\n",
       " 'GASHI',\n",
       " 'Hiss Golden Messenger',\n",
       " 'GNAR',\n",
       " 'Monolord',\n",
       " 'Billy Strings',\n",
       " 'Stunna 4 Vegas',\n",
       " 'Dayseeker',\n",
       " 'Temples',\n",
       " 'DIIV',\n",
       " 'Gatecreeper',\n",
       " 'Sage The Gemini',\n",
       " 'Ghost Town Blues Band',\n",
       " 'Flying Colors',\n",
       " 'Kublai Khan TX',\n",
       " 'Absofacto',\n",
       " 'Spite',\n",
       " 'The Dead South',\n",
       " 'Pastor Mike Jr.',\n",
       " 'Allah-Las',\n",
       " 'Municipal Waste',\n",
       " 'Thousand Below',\n",
       " 'A R I Z O N A',\n",
       " 'clipping.',\n",
       " 'keshi',\n",
       " 'Vida Blue',\n",
       " 'White Reaper',\n",
       " 'Gideon',\n",
       " 'Battles',\n",
       " 'Ashnikko',\n",
       " 'BIA',\n",
       " 'Walk Off The Earth',\n",
       " 'Cigarettes After Sex',\n",
       " 'Fit For An Autopsy',\n",
       " 'Arizona Zervas',\n",
       " 'Ant Clemons',\n",
       " 'Kaash Paige',\n",
       " 'D Smoke',\n",
       " 'Public',\n",
       " 'Black Marble',\n",
       " 'Counterparts',\n",
       " 'Ant Saunders',\n",
       " 'Turnover',\n",
       " 'Fire From The Gods',\n",
       " 'Black Violin',\n",
       " 'Radio Company',\n",
       " 'Ned LeDoux',\n",
       " 'KSI',\n",
       " 'Carin Leon',\n",
       " 'Otherwise',\n",
       " 'Trevor Daniel',\n",
       " 'Chadwick Stokes',\n",
       " 'Randy Rainbow',\n",
       " 'Riley Clemmons',\n",
       " 'AURORA',\n",
       " 'Blood Incantation',\n",
       " 'Lindemann',\n",
       " 'Marca MP',\n",
       " 'JP Saxe',\n",
       " 'Sub Urban',\n",
       " 'Katie Kadan',\n",
       " 'Don Toliver',\n",
       " 'Griselda',\n",
       " 'Jake Hoot',\n",
       " 'Ricky Duran',\n",
       " 'Rose Short',\n",
       " 'Dre',\n",
       " 'Baby Keem',\n",
       " 'A.C.E.',\n",
       " 'The Score',\n",
       " \"TOKYO'S REVENGE\",\n",
       " 'JayDaYoungan',\n",
       " 'Olivia Rodrigo',\n",
       " 'Travis Denning',\n",
       " 'We The Kingdom',\n",
       " 'Natanael Cano',\n",
       " 'John K',\n",
       " 'Poppy',\n",
       " 'Likybo',\n",
       " 'Uncle Murda',\n",
       " 'Beach Slang',\n",
       " 'Pinegrove',\n",
       " 'Sons Of Apollo',\n",
       " 'Grupo Firme',\n",
       " 'Andrew Jackson Jihad',\n",
       " 'Wolf Parade',\n",
       " 'Andy Shauf',\n",
       " 'Jack Harlow',\n",
       " 'Revolution Saints',\n",
       " 'Dirty Shirley',\n",
       " 'midnight',\n",
       " 'Jeff Parker',\n",
       " 'Caspian',\n",
       " 'Bonny Light Horseman',\n",
       " 'Lorna Shore',\n",
       " 'Frances Quinlan',\n",
       " 'POLICA',\n",
       " 'Mahalia',\n",
       " 'Nogizaka 46',\n",
       " 'The Lone Bellow',\n",
       " 'The Cadillac Three',\n",
       " 'John Moreland',\n",
       " 'Spanish Love Songs',\n",
       " 'Surfaces',\n",
       " 'The Format',\n",
       " 'The SteelDrivers',\n",
       " 'Fivio Foreign',\n",
       " 'Beach Bunny',\n",
       " 'Tennis',\n",
       " 'Black Swan',\n",
       " 'IZ*ONE',\n",
       " 'SB19',\n",
       " 'MO3']"
      ]
     },
     "execution_count": 6,
     "metadata": {},
     "output_type": "execute_result"
    }
   ],
   "source": [
    "artists_scrape"
   ]
  },
  {
   "cell_type": "code",
   "execution_count": 7,
   "metadata": {},
   "outputs": [],
   "source": [
    "# MANUAL COPY OF ARTIST LIST, WITH KAREN GIBSON AND A COUPLE OTHERS REMOVED (HER CHOIR PERFORMANCE \n",
    "# AT HARRY AND MEGAN'S WEDDING WENT VIRAL, RESULTING IN HER CHART PLACEMENT ON BILLBOARDS EMERGING ARTISTS LIST)\n",
    "\n",
    "artistlist = ['LANCO', 'Russell Dickerson', 'MAX', 'Walker Hayes', 'Lil Xan', 'Zacari', 'YBN Nahmir', 'Trippie Redd',\n",
    " 'Devin Dawson', 'GoldLink', 'Zendaya', 'Jacquees', 'Tay-K', 'Logan Paul', 'Lil Baby', 'Tee Grizzley', 'Lauv',\n",
    " 'Louis Tomlinson', 'Lil Skies', 'Sofi Tukker', 'Dylan Scott', 'Christian Nodal', 'Big Shaq', 'Alice Merton',\n",
    " 'Swae Lee', 'High Valley', 'Bhad Bhabie', 'Jordan Davis', 'Anitta', 'Alan Walker', 'Greta Van Fleet', 'Wanna One',\n",
    " 'The Revivalists', 'AJR', 'YFN Lucci', 'HRVY', 'Famous Dex', 'Carly Pearce', \"Auli'i Cravalho\", 'Yung Bleu',\n",
    " 'Natti Natasha', 'Keala Settle', 'TakeOff', 'DeJ Loaf', 'Nego do Borel', 'MONSTA X', 'Loren Allred', 'Sabrina Carpenter',\n",
    " 'Alta Consigna', \"Rag'n'Bone Man\", 'The Bellas', 'Blac Youngsta', 'Jeff Rosenstock', 'Andra Day', 'Just Chase',\n",
    " 'Lexy Panterra', 'Chris Lane', 'watt', 'Morgan Wallen', 'Sebastian Yatra', 'Tauren Wells', 'Nacho', 'Billie Eilish',\n",
    " 'Rita Ora', 'Watain', 'Layton Greene', \"Derez De'Shon\", 'Landon Cube', 'Anderson East', 'Avatar', 'Typhoon',\n",
    " 'Tonight Alive', 'Ansel Elgort', 'Bazzi', 'Ty Tabor', 'GENTRI', 'Rich The Kid', 'EDEN', 'Cane Hill', 'Caleb + Kelsey',\n",
    " 'tUnE-YaRdS', 'Queen Naija', 'Jason Manns', 'H.E.R.', 'Bad Wolves', 'Bahamas', 'Moon Taxi', 'Cory Asbury', 'Waterparks',\n",
    " 'Ty Segall', 'Red Velvet', 'Evidence', 'Mike Shinoda', 'Tiny Moving Parts', 'Kali Uchis', 'Sleeping Giant', 'The Dangerous Summer',\n",
    " 'Madison Beer', 'Rhye', \"Why Don't We\", 'Bishop Briggs', 'The Wood Brothers', 'Jon Langston', 'SOB X RBE', 'The Wombats',\n",
    " 'Saudi', 'Good Tiger', 'DJ Kass', 'Jorja Smith', 'Anne-Marie', 'Jordan Feliz', \"I'm With Her\", 'Car Seat Headrest',\n",
    " 'Slaves', 'Normani', 'The Plot In You', 'Superchunk', '6LACK', 'American Nightmare', 'Pianos Become The Teeth', 'John Corabi',\n",
    " 'Agust D', 'j-hope', 'Dessa', 'Turnstile', 'Big Smo', 'Screaming Females', 'Phonte', 'Tracey Thorn', 'Lucius',\n",
    " 'Calum Scott', 'Titus Andronicus', 'Joyner Lucas', 'Superorganism', 'The Band Of Heathens', 'Moose Blood', 'Trixie Mattel',\n",
    " 'Stefflon Don', 'lovelytheband', 'PRhyme', 'Adam Calhoun', 'NCT', 'Rich Homie Quan', 'Hot Snakes', 'Ella Mai',\n",
    " 'Saweetie', 'Rivers Of Nihil', 'Chiquis Rivera', 'DOROTHY', 'Todrick Hall', 'Paul Thorn', 'Dynamite Dylan', 'Lissie',\n",
    " 'Ashley McBryde', 'Light The Torch', 'The Voidz', 'Gesaffelstein', 'Red Sun Rising', 'King Gizzard And The Lizard Wizard', 'Jukebox The Ghost',\n",
    " 'Dr. Octagon', 'Allen Stone', 'Hop Along', 'Alina Baraz', 'The Aquabats!', 'Unknown Mortal Orchestra', 'Wye Oak',\n",
    " 'Poo Bear', 'LEDGER', 'Prof', 'El Chombo', 'Raymix', 'Nekrogoblikon', 'From Ashes To New', 'Drew Love', 'TesseracT',\n",
    " 'Morgan Evans', 'My Silent Bravery', 'Tammy Rivera', 'Mason Ramsey', 'Pryor Baird', 'Britton Buchanan', 'NCT 127',\n",
    " 'Stray Kids', 'Frank Turner', 'Trampled By Turtles', 'Shakey Graves', 'Black Moth Super Rainbow', 'Wolfine', 'Juice WRLD',\n",
    " 'Slim Jxmmi', 'The Word Alive', 'Kyla Jade', 'Drake White', 'Brynn Cartelli', 'Kaleb Lee', 'Brent Cobb', 'Joji',\n",
    " 'Spensha Baker', 'Lindsay Ell', 'Two Feet', 'Sheku Kanneh-Mason', 'Maddie Poppe', 'Kris Wu', 'Parquet Courts',\n",
    " 'Iration', 'Dana Fuchs', 'Trent Harmon', 'Caleb Lee Hutchinson', 'Gabby Barrett', 'Gunna', 'Influence Music',\n",
    " 'Jackson Wang', 'Tyla Yaweh', 'Graveyard', 'Jude Demorest', 'Skepta', 'DJ SPINKING']"
   ]
  },
  {
   "cell_type": "code",
   "execution_count": 49,
   "metadata": {},
   "outputs": [
    {
     "data": {
      "text/plain": [
       "218"
      ]
     },
     "execution_count": 49,
     "metadata": {},
     "output_type": "execute_result"
    }
   ],
   "source": [
    "len(artistlist)"
   ]
  },
  {
   "cell_type": "markdown",
   "metadata": {},
   "source": [
    "## Pull artist genre classifiers from Spotify API"
   ]
  },
  {
   "cell_type": "code",
   "execution_count": 21,
   "metadata": {},
   "outputs": [],
   "source": [
    "auth_manager = SpotifyClientCredentials(client_id=#REDACTED, \n",
    "                                        client_secret=#REDACTED)\n",
    "sp = spotipy.Spotify(auth_manager=auth_manager)"
   ]
  },
  {
   "cell_type": "markdown",
   "metadata": {},
   "source": [
    "### Retrieve artist URI codes"
   ]
  },
  {
   "cell_type": "code",
   "execution_count": 22,
   "metadata": {},
   "outputs": [],
   "source": [
    "# Query spotipy for all artist URI codes\n",
    "\n",
    "uri_list = []\n",
    "\n",
    "for a in artistlist:\n",
    "    result = sp.search(a)\n",
    "    try:\n",
    "        artist_uri = result['tracks']['items'][0]['artists'][0]['uri']\n",
    "        uri_list.append(artist_uri)\n",
    "    except:\n",
    "        print(a)\n",
    "        pass"
   ]
  },
  {
   "cell_type": "code",
   "execution_count": 23,
   "metadata": {
    "scrolled": true
   },
   "outputs": [
    {
     "data": {
      "text/plain": [
       "218"
      ]
     },
     "execution_count": 23,
     "metadata": {},
     "output_type": "execute_result"
    }
   ],
   "source": [
    "len(uri_list)"
   ]
  },
  {
   "cell_type": "markdown",
   "metadata": {},
   "source": [
    "### Retrieve artist genres using URI codes"
   ]
  },
  {
   "cell_type": "code",
   "execution_count": 24,
   "metadata": {},
   "outputs": [],
   "source": [
    "# Use artist URI codes to query spotipy for each artist's associated genres\n",
    "\n",
    "genrelist = []\n",
    "\n",
    "for u in uri_list:\n",
    "    genres = sp.artist(u)['genres']\n",
    "    genrelist.append(genres)"
   ]
  },
  {
   "cell_type": "code",
   "execution_count": 25,
   "metadata": {},
   "outputs": [
    {
     "data": {
      "text/plain": [
       "218"
      ]
     },
     "execution_count": 25,
     "metadata": {},
     "output_type": "execute_result"
    }
   ],
   "source": [
    "len(genrelist)"
   ]
  },
  {
   "cell_type": "code",
   "execution_count": 26,
   "metadata": {},
   "outputs": [
    {
     "data": {
      "text/html": [
       "<div>\n",
       "<style scoped>\n",
       "    .dataframe tbody tr th:only-of-type {\n",
       "        vertical-align: middle;\n",
       "    }\n",
       "\n",
       "    .dataframe tbody tr th {\n",
       "        vertical-align: top;\n",
       "    }\n",
       "\n",
       "    .dataframe thead th {\n",
       "        text-align: right;\n",
       "    }\n",
       "</style>\n",
       "<table border=\"1\" class=\"dataframe\">\n",
       "  <thead>\n",
       "    <tr style=\"text-align: right;\">\n",
       "      <th></th>\n",
       "      <th>artist</th>\n",
       "      <th>genre</th>\n",
       "    </tr>\n",
       "  </thead>\n",
       "  <tbody>\n",
       "    <tr>\n",
       "      <th>0</th>\n",
       "      <td>LANCO</td>\n",
       "      <td>[contemporary country, country pop]</td>\n",
       "    </tr>\n",
       "    <tr>\n",
       "      <th>1</th>\n",
       "      <td>Russell+Dickerson</td>\n",
       "      <td>[contemporary country, country, country road, ...</td>\n",
       "    </tr>\n",
       "    <tr>\n",
       "      <th>2</th>\n",
       "      <td>MAX</td>\n",
       "      <td>[dance pop, electropop, pop, post-teen pop, vi...</td>\n",
       "    </tr>\n",
       "    <tr>\n",
       "      <th>3</th>\n",
       "      <td>Walker+Hayes</td>\n",
       "      <td>[contemporary country, country, country pop, c...</td>\n",
       "    </tr>\n",
       "    <tr>\n",
       "      <th>4</th>\n",
       "      <td>Lil+Xan</td>\n",
       "      <td>[emo rap, underground hip hop, vapor trap]</td>\n",
       "    </tr>\n",
       "  </tbody>\n",
       "</table>\n",
       "</div>"
      ],
      "text/plain": [
       "              artist                                              genre\n",
       "0              LANCO                [contemporary country, country pop]\n",
       "1  Russell+Dickerson  [contemporary country, country, country road, ...\n",
       "2                MAX  [dance pop, electropop, pop, post-teen pop, vi...\n",
       "3       Walker+Hayes  [contemporary country, country, country pop, c...\n",
       "4            Lil+Xan         [emo rap, underground hip hop, vapor trap]"
      ]
     },
     "execution_count": 26,
     "metadata": {},
     "output_type": "execute_result"
    }
   ],
   "source": [
    "d = {'artist':artists, 'genre':genrelist}\n",
    "genre_df = pd.DataFrame(d)\n",
    "genre_df.head()"
   ]
  },
  {
   "cell_type": "markdown",
   "metadata": {},
   "source": [
    "### Manual assignment of single genre to each artist"
   ]
  },
  {
   "cell_type": "code",
   "execution_count": 28,
   "metadata": {},
   "outputs": [],
   "source": [
    "genre1 = ['country', 'country', 'pop', 'country', 'hiphop', 'hiphop', 'hiphop', 'hiphop', 'country', 'hiphop', 'hiphop',\n",
    " 'hiphop', 'hiphop', 'pop', 'hiphop', 'hiphop', 'pop', 'pop', 'hiphop', 'pop', 'country', 'latin', 'hiphop',\n",
    " 'blank', 'country', 'country', 'pop', 'country', 'latin', 'pop', 'rock', 'pop', 'rock', 'rock', 'hiphop', 'pop',\n",
    " 'hiphop', 'country', 'blank', 'hiphop', 'latin', 'blank', 'hiphop', 'hiphop', 'latin', 'pop', 'blank', 'pop',\n",
    " 'latin', 'hiphop', 'blank', 'hiphop', 'rock', 'hiphop', 'hiphop', 'blank', 'country', 'blank', 'country',\n",
    " 'latin', 'faith', 'latin', 'pop', 'hiphop', 'rock', 'hiphop', 'blank', 'hiphop', 'rock', 'hiphop', 'rock', 'pop',\n",
    " 'pop', 'pop', 'blank', 'blank', 'hiphop', 'hiphop', 'rock', 'faith', 'pop', 'pop', 'blank', 'pop', 'rock', 'rock',\n",
    " 'rock', 'faith', 'rock', 'rock', 'pop', 'faith', 'hiphop', 'rock', 'latin', 'blank', 'rock', 'pop', 'hiphop',\n",
    " 'country', 'pop', 'rock', 'country', 'hiphop', 'rock', 'hiphop', 'rock', 'latin', 'pop', 'pop', 'faith', 'rock',\n",
    " 'rock', 'blank', 'pop', 'rock', 'pop', 'hiphop', 'rock', 'rock', 'blank', 'hiphop', 'pop', 'hiphop', 'blank',\n",
    " 'rock', 'rock', 'hiphop', 'hiphop', 'pop', 'pop', 'rock', 'hiphop', 'pop', 'rock', 'rock', 'country', 'latin', 'pop',\n",
    " 'hiphop', 'hiphop', 'pop', 'hiphop', 'rock', 'pop', 'hiphop', 'rock', 'latin', 'rock', 'pop', 'country', 'pop',\n",
    " 'pop', 'country', 'rock', 'rock', 'pop', 'rock', 'rock', 'rock', 'hiphop', 'hiphop', 'blank', 'pop', 'rock',\n",
    " 'hiphop', 'pop', 'pop', 'faith', 'hiphop', 'latin', 'latin', 'rock', 'rock', 'pop', 'rock', 'country', 'rock',\n",
    " 'hiphop', 'country', 'blank', 'blank', 'pop', 'pop', 'rock', 'rock', 'rock', 'hiphop', 'latin', 'hiphop', 'hiphop',\n",
    " 'rock', 'blank', 'country', 'blank', 'blank', 'rock', 'hiphop', 'faith', 'country', 'pop', 'blank', 'blank', 'hiphop',\n",
    " 'rock', 'rock', 'blank', 'country', 'blank', 'country', 'hiphop', 'faith', 'pop', 'hiphop', 'pop', 'pop',\n",
    " 'hiphop', 'hiphop']"
   ]
  },
  {
   "cell_type": "code",
   "execution_count": 30,
   "metadata": {},
   "outputs": [
    {
     "data": {
      "text/html": [
       "<div>\n",
       "<style scoped>\n",
       "    .dataframe tbody tr th:only-of-type {\n",
       "        vertical-align: middle;\n",
       "    }\n",
       "\n",
       "    .dataframe tbody tr th {\n",
       "        vertical-align: top;\n",
       "    }\n",
       "\n",
       "    .dataframe thead th {\n",
       "        text-align: right;\n",
       "    }\n",
       "</style>\n",
       "<table border=\"1\" class=\"dataframe\">\n",
       "  <thead>\n",
       "    <tr style=\"text-align: right;\">\n",
       "      <th></th>\n",
       "      <th>artist</th>\n",
       "      <th>genre_complex</th>\n",
       "      <th>genre</th>\n",
       "    </tr>\n",
       "  </thead>\n",
       "  <tbody>\n",
       "    <tr>\n",
       "      <th>0</th>\n",
       "      <td>LANCO</td>\n",
       "      <td>[contemporary country, country pop]</td>\n",
       "      <td>country</td>\n",
       "    </tr>\n",
       "    <tr>\n",
       "      <th>1</th>\n",
       "      <td>Russell+Dickerson</td>\n",
       "      <td>[contemporary country, country, country road, ...</td>\n",
       "      <td>country</td>\n",
       "    </tr>\n",
       "    <tr>\n",
       "      <th>2</th>\n",
       "      <td>MAX</td>\n",
       "      <td>[dance pop, electropop, pop, post-teen pop, vi...</td>\n",
       "      <td>pop</td>\n",
       "    </tr>\n",
       "    <tr>\n",
       "      <th>3</th>\n",
       "      <td>Walker+Hayes</td>\n",
       "      <td>[contemporary country, country, country pop, c...</td>\n",
       "      <td>country</td>\n",
       "    </tr>\n",
       "    <tr>\n",
       "      <th>4</th>\n",
       "      <td>Lil+Xan</td>\n",
       "      <td>[emo rap, underground hip hop, vapor trap]</td>\n",
       "      <td>hiphop</td>\n",
       "    </tr>\n",
       "  </tbody>\n",
       "</table>\n",
       "</div>"
      ],
      "text/plain": [
       "              artist                                      genre_complex  \\\n",
       "0              LANCO                [contemporary country, country pop]   \n",
       "1  Russell+Dickerson  [contemporary country, country, country road, ...   \n",
       "2                MAX  [dance pop, electropop, pop, post-teen pop, vi...   \n",
       "3       Walker+Hayes  [contemporary country, country, country pop, c...   \n",
       "4            Lil+Xan         [emo rap, underground hip hop, vapor trap]   \n",
       "\n",
       "     genre  \n",
       "0  country  \n",
       "1  country  \n",
       "2      pop  \n",
       "3  country  \n",
       "4   hiphop  "
      ]
     },
     "execution_count": 30,
     "metadata": {},
     "output_type": "execute_result"
    }
   ],
   "source": [
    "genre1 = pd.DataFrame(genre1)\n",
    "genre1_df = pd.concat([genre_df, genre1], axis=1)\n",
    "genre1_df.rename(columns={'genre':'genre_complex', 0:'genre'}, inplace=True)\n",
    "genre1_df.head()"
   ]
  },
  {
   "cell_type": "code",
   "execution_count": 31,
   "metadata": {},
   "outputs": [],
   "source": [
    "# Dropping approx 20 artists from the list who didn't fit into the final set of mainstream genre groupings\n",
    "\n",
    "df_gen = genre1_df[genre1_df['genre'] != 'blank']"
   ]
  },
  {
   "cell_type": "code",
   "execution_count": 63,
   "metadata": {},
   "outputs": [
    {
     "data": {
      "text/html": [
       "<div>\n",
       "<style scoped>\n",
       "    .dataframe tbody tr th:only-of-type {\n",
       "        vertical-align: middle;\n",
       "    }\n",
       "\n",
       "    .dataframe tbody tr th {\n",
       "        vertical-align: top;\n",
       "    }\n",
       "\n",
       "    .dataframe thead th {\n",
       "        text-align: right;\n",
       "    }\n",
       "</style>\n",
       "<table border=\"1\" class=\"dataframe\">\n",
       "  <thead>\n",
       "    <tr style=\"text-align: right;\">\n",
       "      <th></th>\n",
       "      <th>index</th>\n",
       "      <th>artist</th>\n",
       "      <th>genre_complex</th>\n",
       "      <th>genre</th>\n",
       "    </tr>\n",
       "  </thead>\n",
       "  <tbody>\n",
       "    <tr>\n",
       "      <th>188</th>\n",
       "      <td>213</td>\n",
       "      <td>Tyla+Yaweh</td>\n",
       "      <td>[cali rap, melodic rap, pop rap, rap, trap]</td>\n",
       "      <td>hiphop</td>\n",
       "    </tr>\n",
       "    <tr>\n",
       "      <th>189</th>\n",
       "      <td>214</td>\n",
       "      <td>Graveyard</td>\n",
       "      <td>[dance pop, electropop, etherpop, indie poptim...</td>\n",
       "      <td>pop</td>\n",
       "    </tr>\n",
       "    <tr>\n",
       "      <th>190</th>\n",
       "      <td>215</td>\n",
       "      <td>Jude+Demorest</td>\n",
       "      <td>[pop, pop r&amp;b, post-teen pop, r&amp;b, trap queen]</td>\n",
       "      <td>pop</td>\n",
       "    </tr>\n",
       "    <tr>\n",
       "      <th>191</th>\n",
       "      <td>216</td>\n",
       "      <td>Skepta</td>\n",
       "      <td>[hip hop, ohio hip hop, rap]</td>\n",
       "      <td>hiphop</td>\n",
       "    </tr>\n",
       "    <tr>\n",
       "      <th>192</th>\n",
       "      <td>217</td>\n",
       "      <td>DJ+SPINKING</td>\n",
       "      <td>[melodic rap, pop rap, rap, trap]</td>\n",
       "      <td>hiphop</td>\n",
       "    </tr>\n",
       "  </tbody>\n",
       "</table>\n",
       "</div>"
      ],
      "text/plain": [
       "     index         artist                                      genre_complex  \\\n",
       "188    213     Tyla+Yaweh        [cali rap, melodic rap, pop rap, rap, trap]   \n",
       "189    214      Graveyard  [dance pop, electropop, etherpop, indie poptim...   \n",
       "190    215  Jude+Demorest     [pop, pop r&b, post-teen pop, r&b, trap queen]   \n",
       "191    216         Skepta                       [hip hop, ohio hip hop, rap]   \n",
       "192    217    DJ+SPINKING                  [melodic rap, pop rap, rap, trap]   \n",
       "\n",
       "      genre  \n",
       "188  hiphop  \n",
       "189     pop  \n",
       "190     pop  \n",
       "191  hiphop  \n",
       "192  hiphop  "
      ]
     },
     "execution_count": 63,
     "metadata": {},
     "output_type": "execute_result"
    }
   ],
   "source": [
    "df_gen = df_gen.reset_index()\n",
    "df_gen.tail()"
   ]
  },
  {
   "cell_type": "markdown",
   "metadata": {},
   "source": [
    "## Pull artist event info from Songkick API"
   ]
  },
  {
   "cell_type": "markdown",
   "metadata": {},
   "source": [
    "### Compile list of artist Songkick ID's"
   ]
  },
  {
   "cell_type": "code",
   "execution_count": 47,
   "metadata": {},
   "outputs": [],
   "source": [
    "artist_urls = list(df_gen['artist'])\n",
    "artist_ids = []\n",
    "\n",
    "for a in artist_urls:\n",
    "    try:\n",
    "        url = 'https://api.songkick.com/api/3.0/search/artists.json?apikey=X72xzxKFdMGW54Vd&query='+str(a)\n",
    "        data = urllib.request.urlopen(url).read().decode()\n",
    "        obj = json.loads(data)\n",
    "        art_id = obj['resultsPage']['results']['artist'][0]['id']\n",
    "        artist_ids.append(art_id)\n",
    "    except:\n",
    "        artist_ids.append('error')\n",
    "        continue"
   ]
  },
  {
   "cell_type": "code",
   "execution_count": 83,
   "metadata": {},
   "outputs": [
    {
     "data": {
      "text/plain": [
       "185"
      ]
     },
     "execution_count": 83,
     "metadata": {},
     "output_type": "execute_result"
    }
   ],
   "source": [
    "artist_ids = pd.DataFrame(artist_ids, columns=['artist_id'])\n",
    "df_id = pd.concat([df_gen, artist_ids], axis=1)\n",
    "df_id = df_id[df_id['artist_id'] != 'error']\n",
    "df_id = df_id.reset_index()\n",
    "df_id = df_id.drop(['level_0', 'index'], axis=1)\n",
    "len(df_id)"
   ]
  },
  {
   "cell_type": "code",
   "execution_count": 84,
   "metadata": {},
   "outputs": [
    {
     "data": {
      "text/html": [
       "<div>\n",
       "<style scoped>\n",
       "    .dataframe tbody tr th:only-of-type {\n",
       "        vertical-align: middle;\n",
       "    }\n",
       "\n",
       "    .dataframe tbody tr th {\n",
       "        vertical-align: top;\n",
       "    }\n",
       "\n",
       "    .dataframe thead th {\n",
       "        text-align: right;\n",
       "    }\n",
       "</style>\n",
       "<table border=\"1\" class=\"dataframe\">\n",
       "  <thead>\n",
       "    <tr style=\"text-align: right;\">\n",
       "      <th></th>\n",
       "      <th>artist</th>\n",
       "      <th>genre_complex</th>\n",
       "      <th>genre</th>\n",
       "      <th>artist_id</th>\n",
       "    </tr>\n",
       "  </thead>\n",
       "  <tbody>\n",
       "    <tr>\n",
       "      <th>0</th>\n",
       "      <td>LANCO</td>\n",
       "      <td>[contemporary country, country pop]</td>\n",
       "      <td>country</td>\n",
       "      <td>8638569</td>\n",
       "    </tr>\n",
       "    <tr>\n",
       "      <th>1</th>\n",
       "      <td>Russell+Dickerson</td>\n",
       "      <td>[contemporary country, country, country road, ...</td>\n",
       "      <td>country</td>\n",
       "      <td>3123881</td>\n",
       "    </tr>\n",
       "    <tr>\n",
       "      <th>2</th>\n",
       "      <td>MAX</td>\n",
       "      <td>[dance pop, electropop, pop, post-teen pop, vi...</td>\n",
       "      <td>pop</td>\n",
       "      <td>1072686</td>\n",
       "    </tr>\n",
       "    <tr>\n",
       "      <th>3</th>\n",
       "      <td>Walker+Hayes</td>\n",
       "      <td>[contemporary country, country, country pop, c...</td>\n",
       "      <td>country</td>\n",
       "      <td>889691</td>\n",
       "    </tr>\n",
       "    <tr>\n",
       "      <th>4</th>\n",
       "      <td>Lil+Xan</td>\n",
       "      <td>[emo rap, underground hip hop, vapor trap]</td>\n",
       "      <td>hiphop</td>\n",
       "      <td>9257794</td>\n",
       "    </tr>\n",
       "  </tbody>\n",
       "</table>\n",
       "</div>"
      ],
      "text/plain": [
       "              artist                                      genre_complex  \\\n",
       "0              LANCO                [contemporary country, country pop]   \n",
       "1  Russell+Dickerson  [contemporary country, country, country road, ...   \n",
       "2                MAX  [dance pop, electropop, pop, post-teen pop, vi...   \n",
       "3       Walker+Hayes  [contemporary country, country, country pop, c...   \n",
       "4            Lil+Xan         [emo rap, underground hip hop, vapor trap]   \n",
       "\n",
       "     genre artist_id  \n",
       "0  country   8638569  \n",
       "1  country   3123881  \n",
       "2      pop   1072686  \n",
       "3  country    889691  \n",
       "4   hiphop   9257794  "
      ]
     },
     "execution_count": 84,
     "metadata": {},
     "output_type": "execute_result"
    }
   ],
   "source": [
    "df_id.head()"
   ]
  },
  {
   "cell_type": "markdown",
   "metadata": {},
   "source": [
    "### Use artist ID's to query for each artist's past events"
   ]
  },
  {
   "cell_type": "markdown",
   "metadata": {},
   "source": [
    "#### Pull all events between Jan 2018 and March 2020"
   ]
  },
  {
   "cell_type": "code",
   "execution_count": 71,
   "metadata": {},
   "outputs": [],
   "source": [
    "eventslist = []\n",
    "errors = []\n",
    "\n",
    "for i in df_id['artist_id']:\n",
    "    for n in [1, 2, 3, 4]:\n",
    "        url = 'https://api.songkick.com/api/3.0/artists/'+str(i)+'/gigography.json?apikey=X72xzxKFdMGW54Vd&min_date=2018-01-01&max_date=2020-03-01&order=asc&page='+str(n)\n",
    "        data = urllib.request.urlopen(url).read().decode()\n",
    "        obj = json.loads(data)\n",
    "        try:\n",
    "            events = obj['resultsPage']['results']['event']\n",
    "            for e in events:\n",
    "                if e['type'] != 'Concert':\n",
    "                    continue\n",
    "                else:\n",
    "                    city = e['location']['city']\n",
    "                    popularity = e['popularity']\n",
    "                    date = e['start']['date']\n",
    "                    eventslist.append((i, date, city, popularity))\n",
    "        except:\n",
    "            errors.append((i, n))"
   ]
  },
  {
   "cell_type": "code",
   "execution_count": 75,
   "metadata": {},
   "outputs": [
    {
     "data": {
      "text/plain": [
       "14659"
      ]
     },
     "execution_count": 75,
     "metadata": {},
     "output_type": "execute_result"
    }
   ],
   "source": [
    "len(eventslist)"
   ]
  },
  {
   "cell_type": "code",
   "execution_count": 80,
   "metadata": {},
   "outputs": [
    {
     "data": {
      "text/html": [
       "<div>\n",
       "<style scoped>\n",
       "    .dataframe tbody tr th:only-of-type {\n",
       "        vertical-align: middle;\n",
       "    }\n",
       "\n",
       "    .dataframe tbody tr th {\n",
       "        vertical-align: top;\n",
       "    }\n",
       "\n",
       "    .dataframe thead th {\n",
       "        text-align: right;\n",
       "    }\n",
       "</style>\n",
       "<table border=\"1\" class=\"dataframe\">\n",
       "  <thead>\n",
       "    <tr style=\"text-align: right;\">\n",
       "      <th></th>\n",
       "      <th>artist_id</th>\n",
       "      <th>date</th>\n",
       "      <th>location</th>\n",
       "      <th>popularity</th>\n",
       "    </tr>\n",
       "  </thead>\n",
       "  <tbody>\n",
       "    <tr>\n",
       "      <th>0</th>\n",
       "      <td>8638569</td>\n",
       "      <td>2018-01-11</td>\n",
       "      <td>Indianapolis, IN, US</td>\n",
       "      <td>0.077515</td>\n",
       "    </tr>\n",
       "    <tr>\n",
       "      <th>1</th>\n",
       "      <td>8638569</td>\n",
       "      <td>2018-01-12</td>\n",
       "      <td>Independence, MO, US</td>\n",
       "      <td>0.083165</td>\n",
       "    </tr>\n",
       "    <tr>\n",
       "      <th>2</th>\n",
       "      <td>8638569</td>\n",
       "      <td>2018-01-13</td>\n",
       "      <td>St Louis, MO, US</td>\n",
       "      <td>0.077515</td>\n",
       "    </tr>\n",
       "    <tr>\n",
       "      <th>3</th>\n",
       "      <td>8638569</td>\n",
       "      <td>2018-01-17</td>\n",
       "      <td>New York, NY, US</td>\n",
       "      <td>0.008875</td>\n",
       "    </tr>\n",
       "    <tr>\n",
       "      <th>4</th>\n",
       "      <td>8638569</td>\n",
       "      <td>2018-01-18</td>\n",
       "      <td>Highland Heights, KY, US</td>\n",
       "      <td>0.077515</td>\n",
       "    </tr>\n",
       "  </tbody>\n",
       "</table>\n",
       "</div>"
      ],
      "text/plain": [
       "   artist_id        date                  location  popularity\n",
       "0    8638569  2018-01-11      Indianapolis, IN, US    0.077515\n",
       "1    8638569  2018-01-12      Independence, MO, US    0.083165\n",
       "2    8638569  2018-01-13          St Louis, MO, US    0.077515\n",
       "3    8638569  2018-01-17          New York, NY, US    0.008875\n",
       "4    8638569  2018-01-18  Highland Heights, KY, US    0.077515"
      ]
     },
     "execution_count": 80,
     "metadata": {},
     "output_type": "execute_result"
    }
   ],
   "source": [
    "df_eventslist = pd.DataFrame(eventslist, columns=['artist_id', 'date', 'location', 'popularity'])\n",
    "df_eventslist.head()"
   ]
  },
  {
   "cell_type": "markdown",
   "metadata": {},
   "source": [
    "## Combine genre and event data into one dataframe"
   ]
  },
  {
   "cell_type": "code",
   "execution_count": 85,
   "metadata": {},
   "outputs": [],
   "source": [
    "df_merge = pd.merge(df_id, df_eventslist, on='artist_id', how='inner')"
   ]
  },
  {
   "cell_type": "code",
   "execution_count": 86,
   "metadata": {},
   "outputs": [
    {
     "data": {
      "text/html": [
       "<div>\n",
       "<style scoped>\n",
       "    .dataframe tbody tr th:only-of-type {\n",
       "        vertical-align: middle;\n",
       "    }\n",
       "\n",
       "    .dataframe tbody tr th {\n",
       "        vertical-align: top;\n",
       "    }\n",
       "\n",
       "    .dataframe thead th {\n",
       "        text-align: right;\n",
       "    }\n",
       "</style>\n",
       "<table border=\"1\" class=\"dataframe\">\n",
       "  <thead>\n",
       "    <tr style=\"text-align: right;\">\n",
       "      <th></th>\n",
       "      <th>artist</th>\n",
       "      <th>genre_complex</th>\n",
       "      <th>genre</th>\n",
       "      <th>artist_id</th>\n",
       "      <th>date</th>\n",
       "      <th>location</th>\n",
       "      <th>popularity</th>\n",
       "    </tr>\n",
       "  </thead>\n",
       "  <tbody>\n",
       "    <tr>\n",
       "      <th>0</th>\n",
       "      <td>LANCO</td>\n",
       "      <td>[contemporary country, country pop]</td>\n",
       "      <td>country</td>\n",
       "      <td>8638569</td>\n",
       "      <td>2018-01-11</td>\n",
       "      <td>Indianapolis, IN, US</td>\n",
       "      <td>0.077515</td>\n",
       "    </tr>\n",
       "    <tr>\n",
       "      <th>1</th>\n",
       "      <td>LANCO</td>\n",
       "      <td>[contemporary country, country pop]</td>\n",
       "      <td>country</td>\n",
       "      <td>8638569</td>\n",
       "      <td>2018-01-12</td>\n",
       "      <td>Independence, MO, US</td>\n",
       "      <td>0.083165</td>\n",
       "    </tr>\n",
       "    <tr>\n",
       "      <th>2</th>\n",
       "      <td>LANCO</td>\n",
       "      <td>[contemporary country, country pop]</td>\n",
       "      <td>country</td>\n",
       "      <td>8638569</td>\n",
       "      <td>2018-01-13</td>\n",
       "      <td>St Louis, MO, US</td>\n",
       "      <td>0.077515</td>\n",
       "    </tr>\n",
       "    <tr>\n",
       "      <th>3</th>\n",
       "      <td>LANCO</td>\n",
       "      <td>[contemporary country, country pop]</td>\n",
       "      <td>country</td>\n",
       "      <td>8638569</td>\n",
       "      <td>2018-01-17</td>\n",
       "      <td>New York, NY, US</td>\n",
       "      <td>0.008875</td>\n",
       "    </tr>\n",
       "    <tr>\n",
       "      <th>4</th>\n",
       "      <td>LANCO</td>\n",
       "      <td>[contemporary country, country pop]</td>\n",
       "      <td>country</td>\n",
       "      <td>8638569</td>\n",
       "      <td>2018-01-18</td>\n",
       "      <td>Highland Heights, KY, US</td>\n",
       "      <td>0.077515</td>\n",
       "    </tr>\n",
       "  </tbody>\n",
       "</table>\n",
       "</div>"
      ],
      "text/plain": [
       "  artist                        genre_complex    genre artist_id        date  \\\n",
       "0  LANCO  [contemporary country, country pop]  country   8638569  2018-01-11   \n",
       "1  LANCO  [contemporary country, country pop]  country   8638569  2018-01-12   \n",
       "2  LANCO  [contemporary country, country pop]  country   8638569  2018-01-13   \n",
       "3  LANCO  [contemporary country, country pop]  country   8638569  2018-01-17   \n",
       "4  LANCO  [contemporary country, country pop]  country   8638569  2018-01-18   \n",
       "\n",
       "                   location  popularity  \n",
       "0      Indianapolis, IN, US    0.077515  \n",
       "1      Independence, MO, US    0.083165  \n",
       "2          St Louis, MO, US    0.077515  \n",
       "3          New York, NY, US    0.008875  \n",
       "4  Highland Heights, KY, US    0.077515  "
      ]
     },
     "execution_count": 86,
     "metadata": {},
     "output_type": "execute_result"
    }
   ],
   "source": [
    "df_merge.head()"
   ]
  },
  {
   "cell_type": "code",
   "execution_count": 87,
   "metadata": {},
   "outputs": [
    {
     "data": {
      "text/plain": [
       "(14659, 7)"
      ]
     },
     "execution_count": 87,
     "metadata": {},
     "output_type": "execute_result"
    }
   ],
   "source": [
    "df_merge.shape"
   ]
  },
  {
   "cell_type": "code",
   "execution_count": 88,
   "metadata": {},
   "outputs": [],
   "source": [
    "df_merge.to_csv('data_v2/merged.csv', index=False)"
   ]
  },
  {
   "cell_type": "markdown",
   "metadata": {},
   "source": [
    "# Data cleaning\n",
    "## Isolate city names"
   ]
  },
  {
   "cell_type": "code",
   "execution_count": 57,
   "metadata": {},
   "outputs": [],
   "source": [
    "df_merge = pd.read_csv('data_v2/merged.csv')"
   ]
  },
  {
   "cell_type": "code",
   "execution_count": 58,
   "metadata": {
    "scrolled": true
   },
   "outputs": [
    {
     "data": {
      "text/html": [
       "<div>\n",
       "<style scoped>\n",
       "    .dataframe tbody tr th:only-of-type {\n",
       "        vertical-align: middle;\n",
       "    }\n",
       "\n",
       "    .dataframe tbody tr th {\n",
       "        vertical-align: top;\n",
       "    }\n",
       "\n",
       "    .dataframe thead th {\n",
       "        text-align: right;\n",
       "    }\n",
       "</style>\n",
       "<table border=\"1\" class=\"dataframe\">\n",
       "  <thead>\n",
       "    <tr style=\"text-align: right;\">\n",
       "      <th></th>\n",
       "      <th>city</th>\n",
       "      <th>state</th>\n",
       "      <th>country</th>\n",
       "    </tr>\n",
       "  </thead>\n",
       "  <tbody>\n",
       "    <tr>\n",
       "      <th>0</th>\n",
       "      <td>Indianapolis</td>\n",
       "      <td>IN</td>\n",
       "      <td>US</td>\n",
       "    </tr>\n",
       "    <tr>\n",
       "      <th>1</th>\n",
       "      <td>Independence</td>\n",
       "      <td>MO</td>\n",
       "      <td>US</td>\n",
       "    </tr>\n",
       "    <tr>\n",
       "      <th>2</th>\n",
       "      <td>St Louis</td>\n",
       "      <td>MO</td>\n",
       "      <td>US</td>\n",
       "    </tr>\n",
       "    <tr>\n",
       "      <th>3</th>\n",
       "      <td>New York</td>\n",
       "      <td>NY</td>\n",
       "      <td>US</td>\n",
       "    </tr>\n",
       "    <tr>\n",
       "      <th>4</th>\n",
       "      <td>Highland Heights</td>\n",
       "      <td>KY</td>\n",
       "      <td>US</td>\n",
       "    </tr>\n",
       "  </tbody>\n",
       "</table>\n",
       "</div>"
      ],
      "text/plain": [
       "               city state country\n",
       "0      Indianapolis    IN      US\n",
       "1      Independence    MO      US\n",
       "2          St Louis    MO      US\n",
       "3          New York    NY      US\n",
       "4  Highland Heights    KY      US"
      ]
     },
     "execution_count": 58,
     "metadata": {},
     "output_type": "execute_result"
    }
   ],
   "source": [
    "split_data = df_merge['location'].str.split(', ')\n",
    "data = split_data.to_list()\n",
    "loc_df = pd.DataFrame(data, columns=['city', 'state', 'country'])\n",
    "loc_df.head()"
   ]
  },
  {
   "cell_type": "code",
   "execution_count": 59,
   "metadata": {},
   "outputs": [
    {
     "data": {
      "text/html": [
       "<div>\n",
       "<style scoped>\n",
       "    .dataframe tbody tr th:only-of-type {\n",
       "        vertical-align: middle;\n",
       "    }\n",
       "\n",
       "    .dataframe tbody tr th {\n",
       "        vertical-align: top;\n",
       "    }\n",
       "\n",
       "    .dataframe thead th {\n",
       "        text-align: right;\n",
       "    }\n",
       "</style>\n",
       "<table border=\"1\" class=\"dataframe\">\n",
       "  <thead>\n",
       "    <tr style=\"text-align: right;\">\n",
       "      <th></th>\n",
       "      <th>artist</th>\n",
       "      <th>genre_complex</th>\n",
       "      <th>genre</th>\n",
       "      <th>artist_id</th>\n",
       "      <th>date</th>\n",
       "      <th>location</th>\n",
       "      <th>popularity</th>\n",
       "      <th>city</th>\n",
       "      <th>state</th>\n",
       "      <th>country</th>\n",
       "    </tr>\n",
       "  </thead>\n",
       "  <tbody>\n",
       "    <tr>\n",
       "      <th>0</th>\n",
       "      <td>LANCO</td>\n",
       "      <td>['contemporary country', 'country pop']</td>\n",
       "      <td>country</td>\n",
       "      <td>8638569</td>\n",
       "      <td>2018-01-11</td>\n",
       "      <td>Indianapolis, IN, US</td>\n",
       "      <td>0.077515</td>\n",
       "      <td>Indianapolis</td>\n",
       "      <td>IN</td>\n",
       "      <td>US</td>\n",
       "    </tr>\n",
       "    <tr>\n",
       "      <th>1</th>\n",
       "      <td>LANCO</td>\n",
       "      <td>['contemporary country', 'country pop']</td>\n",
       "      <td>country</td>\n",
       "      <td>8638569</td>\n",
       "      <td>2018-01-12</td>\n",
       "      <td>Independence, MO, US</td>\n",
       "      <td>0.083165</td>\n",
       "      <td>Independence</td>\n",
       "      <td>MO</td>\n",
       "      <td>US</td>\n",
       "    </tr>\n",
       "    <tr>\n",
       "      <th>2</th>\n",
       "      <td>LANCO</td>\n",
       "      <td>['contemporary country', 'country pop']</td>\n",
       "      <td>country</td>\n",
       "      <td>8638569</td>\n",
       "      <td>2018-01-13</td>\n",
       "      <td>St Louis, MO, US</td>\n",
       "      <td>0.077515</td>\n",
       "      <td>St Louis</td>\n",
       "      <td>MO</td>\n",
       "      <td>US</td>\n",
       "    </tr>\n",
       "    <tr>\n",
       "      <th>3</th>\n",
       "      <td>LANCO</td>\n",
       "      <td>['contemporary country', 'country pop']</td>\n",
       "      <td>country</td>\n",
       "      <td>8638569</td>\n",
       "      <td>2018-01-17</td>\n",
       "      <td>New York, NY, US</td>\n",
       "      <td>0.008875</td>\n",
       "      <td>New York</td>\n",
       "      <td>NY</td>\n",
       "      <td>US</td>\n",
       "    </tr>\n",
       "    <tr>\n",
       "      <th>4</th>\n",
       "      <td>LANCO</td>\n",
       "      <td>['contemporary country', 'country pop']</td>\n",
       "      <td>country</td>\n",
       "      <td>8638569</td>\n",
       "      <td>2018-01-18</td>\n",
       "      <td>Highland Heights, KY, US</td>\n",
       "      <td>0.077515</td>\n",
       "      <td>Highland Heights</td>\n",
       "      <td>KY</td>\n",
       "      <td>US</td>\n",
       "    </tr>\n",
       "  </tbody>\n",
       "</table>\n",
       "</div>"
      ],
      "text/plain": [
       "  artist                            genre_complex    genre  artist_id  \\\n",
       "0  LANCO  ['contemporary country', 'country pop']  country    8638569   \n",
       "1  LANCO  ['contemporary country', 'country pop']  country    8638569   \n",
       "2  LANCO  ['contemporary country', 'country pop']  country    8638569   \n",
       "3  LANCO  ['contemporary country', 'country pop']  country    8638569   \n",
       "4  LANCO  ['contemporary country', 'country pop']  country    8638569   \n",
       "\n",
       "         date                  location  popularity              city state  \\\n",
       "0  2018-01-11      Indianapolis, IN, US    0.077515      Indianapolis    IN   \n",
       "1  2018-01-12      Independence, MO, US    0.083165      Independence    MO   \n",
       "2  2018-01-13          St Louis, MO, US    0.077515          St Louis    MO   \n",
       "3  2018-01-17          New York, NY, US    0.008875          New York    NY   \n",
       "4  2018-01-18  Highland Heights, KY, US    0.077515  Highland Heights    KY   \n",
       "\n",
       "  country  \n",
       "0      US  \n",
       "1      US  \n",
       "2      US  \n",
       "3      US  \n",
       "4      US  "
      ]
     },
     "execution_count": 59,
     "metadata": {},
     "output_type": "execute_result"
    }
   ],
   "source": [
    "df_city = pd.concat([df_merge, loc_df], axis=1)\n",
    "df_city.head()"
   ]
  },
  {
   "cell_type": "markdown",
   "metadata": {},
   "source": [
    "## Filter out non-US cities"
   ]
  },
  {
   "cell_type": "code",
   "execution_count": 60,
   "metadata": {},
   "outputs": [],
   "source": [
    "df_uscity = df_city[df_city['country'] == 'US']\n",
    "df_uscity.reset_index(inplace=True)\n",
    "df_uscity = df_uscity.drop('index', axis=1)"
   ]
  },
  {
   "cell_type": "code",
   "execution_count": 61,
   "metadata": {
    "scrolled": true
   },
   "outputs": [
    {
     "data": {
      "text/plain": [
       "Chicago             261\n",
       "Philadelphia        231\n",
       "Nashville           217\n",
       "Atlanta             213\n",
       "Los Angeles (LA)    203\n",
       "                   ... \n",
       "Woburn                1\n",
       "Towson                1\n",
       "Huber Heights         1\n",
       "Pembroke Pines        1\n",
       "Greer                 1\n",
       "Name: city, Length: 925, dtype: int64"
      ]
     },
     "execution_count": 61,
     "metadata": {},
     "output_type": "execute_result"
    }
   ],
   "source": [
    "df_uscity['city'].value_counts()"
   ]
  },
  {
   "cell_type": "markdown",
   "metadata": {},
   "source": [
    "## EDA 1: to determine min_sample cutoff for cities included in analysis"
   ]
  },
  {
   "cell_type": "markdown",
   "metadata": {},
   "source": [
    "### EDA 1:  How do min/max event count cutoffs by city impact the number of cities left for clustering?"
   ]
  },
  {
   "cell_type": "code",
   "execution_count": 62,
   "metadata": {},
   "outputs": [],
   "source": [
    "samplesize = []\n",
    "cutoff = []\n",
    "citycount = []\n",
    "for i in range(20,300,20):\n",
    "    dftest = df_uscity[df_uscity['city'].map(df_uscity['city'].value_counts()) > i]\n",
    "    length = len(dftest)\n",
    "    citynum = len(dftest['city'].value_counts())\n",
    "    samplesize.append(length)\n",
    "    cutoff.append(i)\n",
    "    citycount.append(citynum)"
   ]
  },
  {
   "cell_type": "code",
   "execution_count": 63,
   "metadata": {},
   "outputs": [
    {
     "data": {
      "image/png": "[encoded data removed]",
      "text/plain": [
       "<Figure size 1080x576 with 1 Axes>"
      ]
     },
     "metadata": {
      "needs_background": "light"
     },
     "output_type": "display_data"
    }
   ],
   "source": [
    "# Samples-per-city cutoff x total dataset size\n",
    "plt.figure(figsize=(15,8))\n",
    "plt.bar(cutoff, samplesize)\n",
    "plt.title('Min Events per City Cuttoff x Total (Event) Sample Size')\n",
    "plt.xlabel('Minimum number of events per city cutoff')\n",
    "plt.ylabel('Event sample size of full dataset')\n",
    "plt.show()"
   ]
  },
  {
   "cell_type": "code",
   "execution_count": 248,
   "metadata": {},
   "outputs": [
    {
     "data": {
      "image/png": "[encoded data removed]",
      "text/plain": [
       "<Figure size 1080x576 with 1 Axes>"
      ]
     },
     "metadata": {
      "needs_background": "light"
     },
     "output_type": "display_data"
    }
   ],
   "source": [
    "# Samples-per-city cutoff x number of cities leftover\n",
    "plt.figure(figsize=(15,8))\n",
    "plt.bar(cutoff, citycount)\n",
    "plt.ylabel(\"Count of cities\")\n",
    "plt.xlabel(\"Events per city cutoff\")\n",
    "plt.title('City count by # of associated events')\n",
    "plt.show()"
   ]
  },
  {
   "cell_type": "code",
   "execution_count": 206,
   "metadata": {},
   "outputs": [],
   "source": [
    "df_cut = df_uscity[df_uscity['city'].map(df_uscity['city'].value_counts()) < 125]\n",
    "df_cut = df_cut[df_cut['city'].map(df_cut['city'].value_counts()) > 30]"
   ]
  },
  {
   "cell_type": "code",
   "execution_count": 207,
   "metadata": {},
   "outputs": [
    {
     "data": {
      "text/plain": [
       "Charlotte        121\n",
       "Columbus         117\n",
       "Indianapolis     116\n",
       "St Louis         113\n",
       "Phoenix          109\n",
       "New York         109\n",
       "Kansas City      103\n",
       "Cleveland        101\n",
       "Baltimore         95\n",
       "New Orleans       86\n",
       "Pittsburgh        86\n",
       "Milwaukee         85\n",
       "Louisville        84\n",
       "Sacramento        83\n",
       "Hollywood         79\n",
       "Raleigh           78\n",
       "Orlando           76\n",
       "Birmingham        69\n",
       "Grand Rapids      68\n",
       "Tampa             67\n",
       "Cincinnati        66\n",
       "Los Angeles       66\n",
       "San Antonio       65\n",
       "Richmond          63\n",
       "Jacksonville      59\n",
       "Columbia          59\n",
       "Anaheim           58\n",
       "Omaha             53\n",
       "Santa Ana         53\n",
       "St. Paul          52\n",
       "Miami Beach       51\n",
       "Madison           50\n",
       "Asbury Park       49\n",
       "Oakland           49\n",
       "Oklahoma City     48\n",
       "Buffalo           47\n",
       "Rosemont          46\n",
       "Albuquerque       44\n",
       "Greensboro        43\n",
       "Memphis           42\n",
       "Silver Spring     42\n",
       "Norfolk           41\n",
       "Morrison          40\n",
       "San Jose          39\n",
       "Tucson            39\n",
       "Athens            37\n",
       "Des Moines        37\n",
       "Spokane           37\n",
       "Springfield       36\n",
       "Knoxville         36\n",
       "Boise             35\n",
       "Greenville        35\n",
       "Cambridge         34\n",
       "Tulsa             34\n",
       "Mesa              33\n",
       "Charleston        32\n",
       "Name: city, dtype: int64"
      ]
     },
     "execution_count": 207,
     "metadata": {},
     "output_type": "execute_result"
    }
   ],
   "source": [
    "df_cut['city'].value_counts()"
   ]
  },
  {
   "cell_type": "markdown",
   "metadata": {},
   "source": [
    "### Drop 'Miami Beach', 'Los Angeles', 'Hollywood', and 'New York'"
   ]
  },
  {
   "cell_type": "code",
   "execution_count": 208,
   "metadata": {},
   "outputs": [
    {
     "data": {
      "text/plain": [
       "Charlotte        121\n",
       "Columbus         117\n",
       "Indianapolis     116\n",
       "St Louis         113\n",
       "Phoenix          109\n",
       "Kansas City      103\n",
       "Cleveland        101\n",
       "Baltimore         95\n",
       "New Orleans       86\n",
       "Pittsburgh        86\n",
       "Milwaukee         85\n",
       "Louisville        84\n",
       "Sacramento        83\n",
       "Raleigh           78\n",
       "Orlando           76\n",
       "Birmingham        69\n",
       "Grand Rapids      68\n",
       "Tampa             67\n",
       "Cincinnati        66\n",
       "San Antonio       65\n",
       "Richmond          63\n",
       "Columbia          59\n",
       "Jacksonville      59\n",
       "Anaheim           58\n",
       "Santa Ana         53\n",
       "Omaha             53\n",
       "St. Paul          52\n",
       "Madison           50\n",
       "Asbury Park       49\n",
       "Oakland           49\n",
       "Oklahoma City     48\n",
       "Buffalo           47\n",
       "Rosemont          46\n",
       "Albuquerque       44\n",
       "Greensboro        43\n",
       "Memphis           42\n",
       "Silver Spring     42\n",
       "Norfolk           41\n",
       "Morrison          40\n",
       "San Jose          39\n",
       "Tucson            39\n",
       "Athens            37\n",
       "Spokane           37\n",
       "Des Moines        37\n",
       "Knoxville         36\n",
       "Springfield       36\n",
       "Boise             35\n",
       "Greenville        35\n",
       "Tulsa             34\n",
       "Cambridge         34\n",
       "Mesa              33\n",
       "Charleston        32\n",
       "Name: city, dtype: int64"
      ]
     },
     "execution_count": 208,
     "metadata": {},
     "output_type": "execute_result"
    }
   ],
   "source": [
    "df_cut = df_cut[df_cut['city'] != 'Miami Beach']\n",
    "df_cut = df_cut[df_cut['city'] != 'Los Angeles']\n",
    "df_cut = df_cut[df_cut['city'] != 'Hollywood']\n",
    "df_cut = df_cut[df_cut['city'] != 'New York']\n",
    "df_cut['city'].value_counts()"
   ]
  },
  {
   "cell_type": "markdown",
   "metadata": {},
   "source": [
    "## Confirm each city maps to only one state\n",
    "(i.e. Springfield could represent Springfields from multiple states)"
   ]
  },
  {
   "cell_type": "markdown",
   "metadata": {},
   "source": [
    "### Check which cities are duplicated at the state level"
   ]
  },
  {
   "cell_type": "code",
   "execution_count": 209,
   "metadata": {},
   "outputs": [],
   "source": [
    "citylist = pd.DataFrame(df_cut['city'].value_counts()).reset_index()['index']"
   ]
  },
  {
   "cell_type": "code",
   "execution_count": 210,
   "metadata": {},
   "outputs": [],
   "source": [
    "dups = []\n",
    "\n",
    "for c in citylist:\n",
    "    num = len(df_cut[df_cut['city'] == c].groupby('state'))\n",
    "    if num == 1:\n",
    "        continue\n",
    "    else:\n",
    "        dups.append(c)"
   ]
  },
  {
   "cell_type": "code",
   "execution_count": 211,
   "metadata": {
    "scrolled": true
   },
   "outputs": [
    {
     "data": {
      "text/plain": [
       "['Columbus',\n",
       " 'Cleveland',\n",
       " 'Richmond',\n",
       " 'Columbia',\n",
       " 'Jacksonville',\n",
       " 'Madison',\n",
       " 'Athens',\n",
       " 'Des Moines',\n",
       " 'Springfield',\n",
       " 'Greenville',\n",
       " 'Cambridge',\n",
       " 'Charleston']"
      ]
     },
     "execution_count": 211,
     "metadata": {},
     "output_type": "execute_result"
    }
   ],
   "source": [
    "dups"
   ]
  },
  {
   "cell_type": "code",
   "execution_count": 212,
   "metadata": {},
   "outputs": [
    {
     "data": {
      "text/html": [
       "<div>\n",
       "<style scoped>\n",
       "    .dataframe tbody tr th:only-of-type {\n",
       "        vertical-align: middle;\n",
       "    }\n",
       "\n",
       "    .dataframe tbody tr th {\n",
       "        vertical-align: top;\n",
       "    }\n",
       "\n",
       "    .dataframe thead th {\n",
       "        text-align: right;\n",
       "    }\n",
       "</style>\n",
       "<table border=\"1\" class=\"dataframe\">\n",
       "  <thead>\n",
       "    <tr style=\"text-align: right;\">\n",
       "      <th></th>\n",
       "      <th>artist</th>\n",
       "      <th>genre_complex</th>\n",
       "      <th>genre</th>\n",
       "      <th>artist_id</th>\n",
       "      <th>date</th>\n",
       "      <th>location</th>\n",
       "      <th>popularity</th>\n",
       "      <th>city</th>\n",
       "      <th>country</th>\n",
       "    </tr>\n",
       "    <tr>\n",
       "      <th>state</th>\n",
       "      <th></th>\n",
       "      <th></th>\n",
       "      <th></th>\n",
       "      <th></th>\n",
       "      <th></th>\n",
       "      <th></th>\n",
       "      <th></th>\n",
       "      <th></th>\n",
       "      <th></th>\n",
       "    </tr>\n",
       "  </thead>\n",
       "  <tbody>\n",
       "    <tr>\n",
       "      <th>SC</th>\n",
       "      <td>25</td>\n",
       "      <td>25</td>\n",
       "      <td>25</td>\n",
       "      <td>25</td>\n",
       "      <td>25</td>\n",
       "      <td>25</td>\n",
       "      <td>25</td>\n",
       "      <td>25</td>\n",
       "      <td>25</td>\n",
       "    </tr>\n",
       "    <tr>\n",
       "      <th>WV</th>\n",
       "      <td>7</td>\n",
       "      <td>7</td>\n",
       "      <td>7</td>\n",
       "      <td>7</td>\n",
       "      <td>7</td>\n",
       "      <td>7</td>\n",
       "      <td>7</td>\n",
       "      <td>7</td>\n",
       "      <td>7</td>\n",
       "    </tr>\n",
       "  </tbody>\n",
       "</table>\n",
       "</div>"
      ],
      "text/plain": [
       "       artist  genre_complex  genre  artist_id  date  location  popularity  \\\n",
       "state                                                                        \n",
       "SC         25             25     25         25    25        25          25   \n",
       "WV          7              7      7          7     7         7           7   \n",
       "\n",
       "       city  country  \n",
       "state                 \n",
       "SC       25       25  \n",
       "WV        7        7  "
      ]
     },
     "execution_count": 212,
     "metadata": {},
     "output_type": "execute_result"
    }
   ],
   "source": [
    "df_cut[df_cut['city'] == 'Charleston'].groupby('state').count()"
   ]
  },
  {
   "cell_type": "markdown",
   "metadata": {},
   "source": [
    "### Cut the duplicated cities that have fewer than 20 associated events"
   ]
  },
  {
   "cell_type": "code",
   "execution_count": 213,
   "metadata": {},
   "outputs": [],
   "source": [
    "df_citystate = df_cut.groupby(by=['city', 'state']).count().reset_index()"
   ]
  },
  {
   "cell_type": "code",
   "execution_count": 214,
   "metadata": {},
   "outputs": [],
   "source": [
    "dupecuts = df_citystate[df_citystate['artist'] <= 20]\n",
    "\n",
    "for c, s in zip(dupecuts['city'], dupecuts['state']):\n",
    "    df_cut = df_cut[~((df_cut['city'] == c) & (df_cut['state'] == s))]"
   ]
  },
  {
   "cell_type": "markdown",
   "metadata": {},
   "source": [
    "### Confirm that no more duplicates exist in main dataset"
   ]
  },
  {
   "cell_type": "code",
   "execution_count": 215,
   "metadata": {},
   "outputs": [],
   "source": [
    "dups = []\n",
    "\n",
    "for c in citylist:\n",
    "    num = len(df_cut[df_cut['city'] == c].groupby('state'))\n",
    "    if num == 1:\n",
    "        continue\n",
    "    else:\n",
    "        dups.append(c)"
   ]
  },
  {
   "cell_type": "code",
   "execution_count": 216,
   "metadata": {},
   "outputs": [
    {
     "data": {
      "text/plain": [
       "[]"
      ]
     },
     "execution_count": 216,
     "metadata": {},
     "output_type": "execute_result"
    }
   ],
   "source": [
    "dups"
   ]
  },
  {
   "cell_type": "code",
   "execution_count": 217,
   "metadata": {},
   "outputs": [
    {
     "data": {
      "text/plain": [
       "3111"
      ]
     },
     "execution_count": 217,
     "metadata": {},
     "output_type": "execute_result"
    }
   ],
   "source": [
    "len(df_cut)"
   ]
  },
  {
   "cell_type": "markdown",
   "metadata": {},
   "source": [
    "### Group by city and genre to calculate mean genre popularity score by city"
   ]
  },
  {
   "cell_type": "code",
   "execution_count": 218,
   "metadata": {},
   "outputs": [
    {
     "data": {
      "text/html": [
       "<div>\n",
       "<style scoped>\n",
       "    .dataframe tbody tr th:only-of-type {\n",
       "        vertical-align: middle;\n",
       "    }\n",
       "\n",
       "    .dataframe tbody tr th {\n",
       "        vertical-align: top;\n",
       "    }\n",
       "\n",
       "    .dataframe thead th {\n",
       "        text-align: right;\n",
       "    }\n",
       "</style>\n",
       "<table border=\"1\" class=\"dataframe\">\n",
       "  <thead>\n",
       "    <tr style=\"text-align: right;\">\n",
       "      <th></th>\n",
       "      <th>city</th>\n",
       "      <th>state</th>\n",
       "      <th>genre</th>\n",
       "      <th>popularity</th>\n",
       "    </tr>\n",
       "  </thead>\n",
       "  <tbody>\n",
       "    <tr>\n",
       "      <th>0</th>\n",
       "      <td>Albuquerque</td>\n",
       "      <td>NM</td>\n",
       "      <td>country</td>\n",
       "      <td>0.103392</td>\n",
       "    </tr>\n",
       "    <tr>\n",
       "      <th>1</th>\n",
       "      <td>Albuquerque</td>\n",
       "      <td>NM</td>\n",
       "      <td>faith</td>\n",
       "      <td>0.006962</td>\n",
       "    </tr>\n",
       "    <tr>\n",
       "      <th>2</th>\n",
       "      <td>Albuquerque</td>\n",
       "      <td>NM</td>\n",
       "      <td>hiphop</td>\n",
       "      <td>0.201966</td>\n",
       "    </tr>\n",
       "    <tr>\n",
       "      <th>3</th>\n",
       "      <td>Albuquerque</td>\n",
       "      <td>NM</td>\n",
       "      <td>latin</td>\n",
       "      <td>0.011997</td>\n",
       "    </tr>\n",
       "    <tr>\n",
       "      <th>4</th>\n",
       "      <td>Albuquerque</td>\n",
       "      <td>NM</td>\n",
       "      <td>pop</td>\n",
       "      <td>0.146753</td>\n",
       "    </tr>\n",
       "  </tbody>\n",
       "</table>\n",
       "</div>"
      ],
      "text/plain": [
       "          city state    genre  popularity\n",
       "0  Albuquerque    NM  country    0.103392\n",
       "1  Albuquerque    NM    faith    0.006962\n",
       "2  Albuquerque    NM   hiphop    0.201966\n",
       "3  Albuquerque    NM    latin    0.011997\n",
       "4  Albuquerque    NM      pop    0.146753"
      ]
     },
     "execution_count": 218,
     "metadata": {},
     "output_type": "execute_result"
    }
   ],
   "source": [
    "df_genscore = pd.DataFrame(df_cut.groupby(by=['city', 'state', 'genre'])['popularity'].mean()).reset_index()\n",
    "df_genscore.head()"
   ]
  },
  {
   "cell_type": "markdown",
   "metadata": {},
   "source": [
    "## Finalize datasets"
   ]
  },
  {
   "cell_type": "markdown",
   "metadata": {},
   "source": [
    "### Pivot to create baseline dataset"
   ]
  },
  {
   "cell_type": "code",
   "execution_count": 219,
   "metadata": {},
   "outputs": [],
   "source": [
    "pvt = pd.pivot_table(df_genscore, index=['city', 'state'], columns='genre',\n",
    "                     values='popularity', aggfunc='sum', fill_value=0)"
   ]
  },
  {
   "cell_type": "code",
   "execution_count": 220,
   "metadata": {},
   "outputs": [
    {
     "data": {
      "text/html": [
       "<div>\n",
       "<style scoped>\n",
       "    .dataframe tbody tr th:only-of-type {\n",
       "        vertical-align: middle;\n",
       "    }\n",
       "\n",
       "    .dataframe tbody tr th {\n",
       "        vertical-align: top;\n",
       "    }\n",
       "\n",
       "    .dataframe thead th {\n",
       "        text-align: right;\n",
       "    }\n",
       "</style>\n",
       "<table border=\"1\" class=\"dataframe\">\n",
       "  <thead>\n",
       "    <tr style=\"text-align: right;\">\n",
       "      <th></th>\n",
       "      <th>genre</th>\n",
       "      <th>country</th>\n",
       "      <th>faith</th>\n",
       "      <th>hiphop</th>\n",
       "      <th>latin</th>\n",
       "      <th>pop</th>\n",
       "      <th>rock</th>\n",
       "    </tr>\n",
       "    <tr>\n",
       "      <th>city</th>\n",
       "      <th>state</th>\n",
       "      <th></th>\n",
       "      <th></th>\n",
       "      <th></th>\n",
       "      <th></th>\n",
       "      <th></th>\n",
       "      <th></th>\n",
       "    </tr>\n",
       "  </thead>\n",
       "  <tbody>\n",
       "    <tr>\n",
       "      <th>Albuquerque</th>\n",
       "      <th>NM</th>\n",
       "      <td>0.103392</td>\n",
       "      <td>0.006962</td>\n",
       "      <td>0.201966</td>\n",
       "      <td>0.011997</td>\n",
       "      <td>0.146753</td>\n",
       "      <td>0.043656</td>\n",
       "    </tr>\n",
       "    <tr>\n",
       "      <th>Anaheim</th>\n",
       "      <th>CA</th>\n",
       "      <td>0.107177</td>\n",
       "      <td>0.012833</td>\n",
       "      <td>0.270516</td>\n",
       "      <td>0.007395</td>\n",
       "      <td>0.230438</td>\n",
       "      <td>0.026071</td>\n",
       "    </tr>\n",
       "    <tr>\n",
       "      <th>Asbury Park</th>\n",
       "      <th>NJ</th>\n",
       "      <td>0.007947</td>\n",
       "      <td>0.000000</td>\n",
       "      <td>0.024426</td>\n",
       "      <td>0.000000</td>\n",
       "      <td>0.022083</td>\n",
       "      <td>0.026799</td>\n",
       "    </tr>\n",
       "    <tr>\n",
       "      <th>Athens</th>\n",
       "      <th>GA</th>\n",
       "      <td>0.012485</td>\n",
       "      <td>0.000000</td>\n",
       "      <td>0.073950</td>\n",
       "      <td>0.000000</td>\n",
       "      <td>0.045995</td>\n",
       "      <td>0.020373</td>\n",
       "    </tr>\n",
       "    <tr>\n",
       "      <th>Baltimore</th>\n",
       "      <th>MD</th>\n",
       "      <td>0.040776</td>\n",
       "      <td>0.064185</td>\n",
       "      <td>0.106361</td>\n",
       "      <td>0.040140</td>\n",
       "      <td>0.036437</td>\n",
       "      <td>0.022700</td>\n",
       "    </tr>\n",
       "  </tbody>\n",
       "</table>\n",
       "</div>"
      ],
      "text/plain": [
       "genre               country     faith    hiphop     latin       pop      rock\n",
       "city        state                                                            \n",
       "Albuquerque NM     0.103392  0.006962  0.201966  0.011997  0.146753  0.043656\n",
       "Anaheim     CA     0.107177  0.012833  0.270516  0.007395  0.230438  0.026071\n",
       "Asbury Park NJ     0.007947  0.000000  0.024426  0.000000  0.022083  0.026799\n",
       "Athens      GA     0.012485  0.000000  0.073950  0.000000  0.045995  0.020373\n",
       "Baltimore   MD     0.040776  0.064185  0.106361  0.040140  0.036437  0.022700"
      ]
     },
     "execution_count": 220,
     "metadata": {},
     "output_type": "execute_result"
    }
   ],
   "source": [
    "pvt.head()"
   ]
  },
  {
   "cell_type": "markdown",
   "metadata": {},
   "source": [
    "### Collect maximum values by row, column, and sum of row values for normalization"
   ]
  },
  {
   "cell_type": "code",
   "execution_count": 221,
   "metadata": {},
   "outputs": [],
   "source": [
    "maxbyrow = []\n",
    "\n",
    "for i in range(0, 52, 1):\n",
    "    maxscore = float(pvt.iloc[i].max())\n",
    "    maxbyrow.append(maxscore)"
   ]
  },
  {
   "cell_type": "code",
   "execution_count": 222,
   "metadata": {},
   "outputs": [],
   "source": [
    "maxbycol = []\n",
    "\n",
    "for i in pvt:\n",
    "    maxscore = pvt[i].max()\n",
    "    maxbycol.append(maxscore)"
   ]
  },
  {
   "cell_type": "code",
   "execution_count": 223,
   "metadata": {},
   "outputs": [],
   "source": [
    "sumbyrow = []\n",
    "\n",
    "for i in range(0, 52, 1):\n",
    "    sumscore = float(pvt.iloc[i].sum())\n",
    "    sumbyrow.append(sumscore)"
   ]
  },
  {
   "cell_type": "markdown",
   "metadata": {},
   "source": [
    "### Create 2 new pivot tables, normalized by row, column, and row sum respectively"
   ]
  },
  {
   "cell_type": "markdown",
   "metadata": {},
   "source": [
    "#### By row"
   ]
  },
  {
   "cell_type": "code",
   "execution_count": 224,
   "metadata": {
    "scrolled": false
   },
   "outputs": [],
   "source": [
    "normedrows = []\n",
    "\n",
    "for n, m in enumerate(maxbyrow):\n",
    "        normedrow = []\n",
    "        for v in pvt.iloc[n]:\n",
    "            normed = v/m\n",
    "            normedrow.append(normed)\n",
    "        normedrows.append(normedrow)   "
   ]
  },
  {
   "cell_type": "code",
   "execution_count": 225,
   "metadata": {
    "scrolled": true
   },
   "outputs": [],
   "source": [
    "pvt_nrow = pd.DataFrame(normedrows, index=pvt.index, columns=pvt.columns)"
   ]
  },
  {
   "cell_type": "code",
   "execution_count": 226,
   "metadata": {},
   "outputs": [
    {
     "data": {
      "text/html": [
       "<div>\n",
       "<style scoped>\n",
       "    .dataframe tbody tr th:only-of-type {\n",
       "        vertical-align: middle;\n",
       "    }\n",
       "\n",
       "    .dataframe tbody tr th {\n",
       "        vertical-align: top;\n",
       "    }\n",
       "\n",
       "    .dataframe thead th {\n",
       "        text-align: right;\n",
       "    }\n",
       "</style>\n",
       "<table border=\"1\" class=\"dataframe\">\n",
       "  <thead>\n",
       "    <tr style=\"text-align: right;\">\n",
       "      <th></th>\n",
       "      <th>genre</th>\n",
       "      <th>country</th>\n",
       "      <th>faith</th>\n",
       "      <th>hiphop</th>\n",
       "      <th>latin</th>\n",
       "      <th>pop</th>\n",
       "      <th>rock</th>\n",
       "    </tr>\n",
       "    <tr>\n",
       "      <th>city</th>\n",
       "      <th>state</th>\n",
       "      <th></th>\n",
       "      <th></th>\n",
       "      <th></th>\n",
       "      <th></th>\n",
       "      <th></th>\n",
       "      <th></th>\n",
       "    </tr>\n",
       "  </thead>\n",
       "  <tbody>\n",
       "    <tr>\n",
       "      <th>Albuquerque</th>\n",
       "      <th>NM</th>\n",
       "      <td>0.511925</td>\n",
       "      <td>0.034471</td>\n",
       "      <td>1.000000</td>\n",
       "      <td>0.059401</td>\n",
       "      <td>0.726624</td>\n",
       "      <td>0.216154</td>\n",
       "    </tr>\n",
       "    <tr>\n",
       "      <th>Anaheim</th>\n",
       "      <th>CA</th>\n",
       "      <td>0.396195</td>\n",
       "      <td>0.047440</td>\n",
       "      <td>1.000000</td>\n",
       "      <td>0.027337</td>\n",
       "      <td>0.851847</td>\n",
       "      <td>0.096376</td>\n",
       "    </tr>\n",
       "    <tr>\n",
       "      <th>Asbury Park</th>\n",
       "      <th>NJ</th>\n",
       "      <td>0.296547</td>\n",
       "      <td>0.000000</td>\n",
       "      <td>0.911426</td>\n",
       "      <td>0.000000</td>\n",
       "      <td>0.824003</td>\n",
       "      <td>1.000000</td>\n",
       "    </tr>\n",
       "    <tr>\n",
       "      <th>Athens</th>\n",
       "      <th>GA</th>\n",
       "      <td>0.168829</td>\n",
       "      <td>0.000000</td>\n",
       "      <td>1.000000</td>\n",
       "      <td>0.000000</td>\n",
       "      <td>0.621974</td>\n",
       "      <td>0.275498</td>\n",
       "    </tr>\n",
       "    <tr>\n",
       "      <th>Baltimore</th>\n",
       "      <th>MD</th>\n",
       "      <td>0.383372</td>\n",
       "      <td>0.603463</td>\n",
       "      <td>1.000000</td>\n",
       "      <td>0.377393</td>\n",
       "      <td>0.342582</td>\n",
       "      <td>0.213424</td>\n",
       "    </tr>\n",
       "  </tbody>\n",
       "</table>\n",
       "</div>"
      ],
      "text/plain": [
       "genre               country     faith    hiphop     latin       pop      rock\n",
       "city        state                                                            \n",
       "Albuquerque NM     0.511925  0.034471  1.000000  0.059401  0.726624  0.216154\n",
       "Anaheim     CA     0.396195  0.047440  1.000000  0.027337  0.851847  0.096376\n",
       "Asbury Park NJ     0.296547  0.000000  0.911426  0.000000  0.824003  1.000000\n",
       "Athens      GA     0.168829  0.000000  1.000000  0.000000  0.621974  0.275498\n",
       "Baltimore   MD     0.383372  0.603463  1.000000  0.377393  0.342582  0.213424"
      ]
     },
     "execution_count": 226,
     "metadata": {},
     "output_type": "execute_result"
    }
   ],
   "source": [
    "pvt_nrow.head()"
   ]
  },
  {
   "cell_type": "markdown",
   "metadata": {},
   "source": [
    "#### By column"
   ]
  },
  {
   "cell_type": "code",
   "execution_count": 227,
   "metadata": {},
   "outputs": [],
   "source": [
    "normedcols = []\n",
    "\n",
    "for n, m in enumerate(maxbycol):\n",
    "        normedcol = []\n",
    "        for v in pvt.iloc[:,n]:\n",
    "            normed = v/m\n",
    "            normedcol.append(normed)\n",
    "        normedcols.append(normedcol)  "
   ]
  },
  {
   "cell_type": "code",
   "execution_count": 228,
   "metadata": {},
   "outputs": [],
   "source": [
    "pvt_ncol = pd.DataFrame(normedcols, index=pvt.columns).T"
   ]
  },
  {
   "cell_type": "code",
   "execution_count": 229,
   "metadata": {},
   "outputs": [],
   "source": [
    "pvt_ncol.set_index(pvt.index, inplace=True)"
   ]
  },
  {
   "cell_type": "code",
   "execution_count": 230,
   "metadata": {
    "scrolled": true
   },
   "outputs": [
    {
     "data": {
      "text/html": [
       "<div>\n",
       "<style scoped>\n",
       "    .dataframe tbody tr th:only-of-type {\n",
       "        vertical-align: middle;\n",
       "    }\n",
       "\n",
       "    .dataframe tbody tr th {\n",
       "        vertical-align: top;\n",
       "    }\n",
       "\n",
       "    .dataframe thead th {\n",
       "        text-align: right;\n",
       "    }\n",
       "</style>\n",
       "<table border=\"1\" class=\"dataframe\">\n",
       "  <thead>\n",
       "    <tr style=\"text-align: right;\">\n",
       "      <th></th>\n",
       "      <th>genre</th>\n",
       "      <th>country</th>\n",
       "      <th>faith</th>\n",
       "      <th>hiphop</th>\n",
       "      <th>latin</th>\n",
       "      <th>pop</th>\n",
       "      <th>rock</th>\n",
       "    </tr>\n",
       "    <tr>\n",
       "      <th>city</th>\n",
       "      <th>state</th>\n",
       "      <th></th>\n",
       "      <th></th>\n",
       "      <th></th>\n",
       "      <th></th>\n",
       "      <th></th>\n",
       "      <th></th>\n",
       "    </tr>\n",
       "  </thead>\n",
       "  <tbody>\n",
       "    <tr>\n",
       "      <th>Albuquerque</th>\n",
       "      <th>NM</th>\n",
       "      <td>0.245707</td>\n",
       "      <td>0.072203</td>\n",
       "      <td>0.476667</td>\n",
       "      <td>0.078007</td>\n",
       "      <td>0.386469</td>\n",
       "      <td>0.497851</td>\n",
       "    </tr>\n",
       "    <tr>\n",
       "      <th>Anaheim</th>\n",
       "      <th>CA</th>\n",
       "      <td>0.254704</td>\n",
       "      <td>0.133092</td>\n",
       "      <td>0.638455</td>\n",
       "      <td>0.048084</td>\n",
       "      <td>0.606850</td>\n",
       "      <td>0.297318</td>\n",
       "    </tr>\n",
       "    <tr>\n",
       "      <th>Asbury Park</th>\n",
       "      <th>NJ</th>\n",
       "      <td>0.018886</td>\n",
       "      <td>0.000000</td>\n",
       "      <td>0.057648</td>\n",
       "      <td>0.000000</td>\n",
       "      <td>0.058154</td>\n",
       "      <td>0.305622</td>\n",
       "    </tr>\n",
       "    <tr>\n",
       "      <th>Athens</th>\n",
       "      <th>GA</th>\n",
       "      <td>0.029670</td>\n",
       "      <td>0.000000</td>\n",
       "      <td>0.174532</td>\n",
       "      <td>0.000000</td>\n",
       "      <td>0.121126</td>\n",
       "      <td>0.232335</td>\n",
       "    </tr>\n",
       "    <tr>\n",
       "      <th>Baltimore</th>\n",
       "      <th>MD</th>\n",
       "      <td>0.096903</td>\n",
       "      <td>0.665661</td>\n",
       "      <td>0.251026</td>\n",
       "      <td>0.261000</td>\n",
       "      <td>0.095956</td>\n",
       "      <td>0.258873</td>\n",
       "    </tr>\n",
       "  </tbody>\n",
       "</table>\n",
       "</div>"
      ],
      "text/plain": [
       "genre               country     faith    hiphop     latin       pop      rock\n",
       "city        state                                                            \n",
       "Albuquerque NM     0.245707  0.072203  0.476667  0.078007  0.386469  0.497851\n",
       "Anaheim     CA     0.254704  0.133092  0.638455  0.048084  0.606850  0.297318\n",
       "Asbury Park NJ     0.018886  0.000000  0.057648  0.000000  0.058154  0.305622\n",
       "Athens      GA     0.029670  0.000000  0.174532  0.000000  0.121126  0.232335\n",
       "Baltimore   MD     0.096903  0.665661  0.251026  0.261000  0.095956  0.258873"
      ]
     },
     "execution_count": 230,
     "metadata": {},
     "output_type": "execute_result"
    }
   ],
   "source": [
    "pvt_ncol.head()"
   ]
  },
  {
   "cell_type": "markdown",
   "metadata": {},
   "source": [
    "#### By the sum of all values in a given row"
   ]
  },
  {
   "cell_type": "code",
   "execution_count": 231,
   "metadata": {},
   "outputs": [],
   "source": [
    "normedrowsums = []\n",
    "\n",
    "for n, m in enumerate(sumbyrow):\n",
    "        normedrowsum = []\n",
    "        for v in pvt.iloc[n]:\n",
    "            normed = v/m\n",
    "            normedrowsum.append(normed)\n",
    "        normedrowsums.append(normedrowsum)  "
   ]
  },
  {
   "cell_type": "code",
   "execution_count": 232,
   "metadata": {},
   "outputs": [],
   "source": [
    "pvt_nrowsum = pd.DataFrame(normedrowsums, index=pvt.index, columns=pvt.columns)"
   ]
  },
  {
   "cell_type": "code",
   "execution_count": 233,
   "metadata": {},
   "outputs": [
    {
     "data": {
      "text/html": [
       "<div>\n",
       "<style scoped>\n",
       "    .dataframe tbody tr th:only-of-type {\n",
       "        vertical-align: middle;\n",
       "    }\n",
       "\n",
       "    .dataframe tbody tr th {\n",
       "        vertical-align: top;\n",
       "    }\n",
       "\n",
       "    .dataframe thead th {\n",
       "        text-align: right;\n",
       "    }\n",
       "</style>\n",
       "<table border=\"1\" class=\"dataframe\">\n",
       "  <thead>\n",
       "    <tr style=\"text-align: right;\">\n",
       "      <th></th>\n",
       "      <th>genre</th>\n",
       "      <th>country</th>\n",
       "      <th>faith</th>\n",
       "      <th>hiphop</th>\n",
       "      <th>latin</th>\n",
       "      <th>pop</th>\n",
       "      <th>rock</th>\n",
       "    </tr>\n",
       "    <tr>\n",
       "      <th>city</th>\n",
       "      <th>state</th>\n",
       "      <th></th>\n",
       "      <th></th>\n",
       "      <th></th>\n",
       "      <th></th>\n",
       "      <th></th>\n",
       "      <th></th>\n",
       "    </tr>\n",
       "  </thead>\n",
       "  <tbody>\n",
       "    <tr>\n",
       "      <th>Albuquerque</th>\n",
       "      <th>NM</th>\n",
       "      <td>0.200867</td>\n",
       "      <td>0.013526</td>\n",
       "      <td>0.392376</td>\n",
       "      <td>0.023308</td>\n",
       "      <td>0.285110</td>\n",
       "      <td>0.084813</td>\n",
       "    </tr>\n",
       "    <tr>\n",
       "      <th>Anaheim</th>\n",
       "      <th>CA</th>\n",
       "      <td>0.163771</td>\n",
       "      <td>0.019610</td>\n",
       "      <td>0.413361</td>\n",
       "      <td>0.011300</td>\n",
       "      <td>0.352120</td>\n",
       "      <td>0.039838</td>\n",
       "    </tr>\n",
       "    <tr>\n",
       "      <th>Asbury Park</th>\n",
       "      <th>NJ</th>\n",
       "      <td>0.097807</td>\n",
       "      <td>0.000000</td>\n",
       "      <td>0.300604</td>\n",
       "      <td>0.000000</td>\n",
       "      <td>0.271771</td>\n",
       "      <td>0.329818</td>\n",
       "    </tr>\n",
       "    <tr>\n",
       "      <th>Athens</th>\n",
       "      <th>GA</th>\n",
       "      <td>0.081706</td>\n",
       "      <td>0.000000</td>\n",
       "      <td>0.483957</td>\n",
       "      <td>0.000000</td>\n",
       "      <td>0.301009</td>\n",
       "      <td>0.133329</td>\n",
       "    </tr>\n",
       "    <tr>\n",
       "      <th>Baltimore</th>\n",
       "      <th>MD</th>\n",
       "      <td>0.131281</td>\n",
       "      <td>0.206649</td>\n",
       "      <td>0.342438</td>\n",
       "      <td>0.129234</td>\n",
       "      <td>0.117313</td>\n",
       "      <td>0.073085</td>\n",
       "    </tr>\n",
       "  </tbody>\n",
       "</table>\n",
       "</div>"
      ],
      "text/plain": [
       "genre               country     faith    hiphop     latin       pop      rock\n",
       "city        state                                                            \n",
       "Albuquerque NM     0.200867  0.013526  0.392376  0.023308  0.285110  0.084813\n",
       "Anaheim     CA     0.163771  0.019610  0.413361  0.011300  0.352120  0.039838\n",
       "Asbury Park NJ     0.097807  0.000000  0.300604  0.000000  0.271771  0.329818\n",
       "Athens      GA     0.081706  0.000000  0.483957  0.000000  0.301009  0.133329\n",
       "Baltimore   MD     0.131281  0.206649  0.342438  0.129234  0.117313  0.073085"
      ]
     },
     "execution_count": 233,
     "metadata": {},
     "output_type": "execute_result"
    }
   ],
   "source": [
    "pvt_nrowsum.head()"
   ]
  },
  {
   "cell_type": "markdown",
   "metadata": {},
   "source": [
    "## Store formatted data to .csv files"
   ]
  },
  {
   "cell_type": "code",
   "execution_count": 234,
   "metadata": {},
   "outputs": [],
   "source": [
    "pvt.to_csv('data_v2/pvt.csv', )\n",
    "pvt_nrow.to_csv('data_v2/pvt_nrow.csv')\n",
    "pvt_ncol.to_csv('data_v2/pvt_ncol.csv')\n",
    "pvt_nrowsum.to_csv('data_v2/pvt_nrowsum.csv')"
   ]
  },
  {
   "cell_type": "markdown",
   "metadata": {},
   "source": [
    "# Clustering"
   ]
  },
  {
   "cell_type": "code",
   "execution_count": 1,
   "metadata": {},
   "outputs": [],
   "source": [
    "from sklearn.cluster import KMeans\n",
    "from sklearn.metrics import calinski_harabasz_score\n",
    "from sklearn.cluster import AgglomerativeClustering\n",
    "from sklearn.neighbors import KernelDensity"
   ]
  },
  {
   "cell_type": "code",
   "execution_count": 4,
   "metadata": {},
   "outputs": [],
   "source": [
    "pvt = pd.read_csv('data_v2/pvt.csv')\n",
    "pvt.set_index(['city', 'state'], inplace=True)\n",
    "\n",
    "pvt_nrow = pd.read_csv('data_v2/pvt_nrow.csv')\n",
    "pvt_nrow.set_index(['city', 'state'], inplace=True)\n",
    "\n",
    "pvt_ncol = pd.read_csv('data_v2/pvt_ncol.csv')\n",
    "pvt_ncol.set_index(['city', 'state'], inplace=True)\n",
    "\n",
    "pvt_nrs = pd.read_csv('data_v2/pvt_nrowsum.csv')\n",
    "pvt_nrs.set_index(['city', 'state'], inplace=True)"
   ]
  },
  {
   "cell_type": "markdown",
   "metadata": {},
   "source": [
    "## K Means\n",
    "### EDA 2:  Optimal cluster count for different versions of normalized dataset\n",
    "#### Unnormalized data"
   ]
  },
  {
   "cell_type": "code",
   "execution_count": 5,
   "metadata": {},
   "outputs": [],
   "source": [
    "k_means_3 = KMeans(n_clusters=3, random_state=29).fit(pvt)\n",
    "k_means_4 = KMeans(n_clusters=4, random_state=29).fit(pvt)\n",
    "k_means_5 = KMeans(n_clusters=5, random_state=29).fit(pvt)\n",
    "k_means_6 = KMeans(n_clusters=6, random_state=29).fit(pvt)\n",
    "k_means_7 = KMeans(n_clusters=7, random_state=29).fit(pvt)\n",
    "k_means_8 = KMeans(n_clusters=8, random_state=29).fit(pvt)\n",
    "k_means_9 = KMeans(n_clusters=9, random_state=29).fit(pvt)\n",
    "k_means_10 = KMeans(n_clusters=10, random_state=29).fit(pvt)\n",
    "k_means_11 = KMeans(n_clusters=11, random_state=29).fit(pvt)\n",
    "k_means_12 = KMeans(n_clusters=12, random_state=29).fit(pvt)\n",
    "k_means_13 = KMeans(n_clusters=13, random_state=29).fit(pvt)\n",
    "k_means_14 = KMeans(n_clusters=14, random_state=29).fit(pvt)\n",
    "k_means_15 = KMeans(n_clusters=15, random_state=29).fit(pvt)\n",
    "\n",
    "k_list = [k_means_3, k_means_4, k_means_5, k_means_6, k_means_7, k_means_8, k_means_9, k_means_10, k_means_11,\n",
    "          k_means_12, k_means_13, k_means_14, k_means_15]"
   ]
  },
  {
   "cell_type": "code",
   "execution_count": 6,
   "metadata": {},
   "outputs": [],
   "source": [
    "CH_score = []\n",
    "\n",
    "for k in k_list:\n",
    "    lab = k.labels_\n",
    "    ch = calinski_harabasz_score(pvt, lab)\n",
    "    CH_score.append(ch)"
   ]
  },
  {
   "cell_type": "code",
   "execution_count": 7,
   "metadata": {},
   "outputs": [
    {
     "data": {
      "image/png": "[encoded data removed]",
      "text/plain": [
       "<Figure size 432x288 with 1 Axes>"
      ]
     },
     "metadata": {
      "needs_background": "light"
     },
     "output_type": "display_data"
    }
   ],
   "source": [
    "x = range(3, 16, 1)\n",
    "\n",
    "plt.plot(x, CH_score)\n",
    "plt.xticks(x)\n",
    "plt.title('Calinski Harabasz Scores for Different Values of K (Unnormalized data)')\n",
    "plt.ylabel('Variance Ratio')\n",
    "plt.xlabel('K=')\n",
    "plt.show()"
   ]
  },
  {
   "cell_type": "code",
   "execution_count": 8,
   "metadata": {},
   "outputs": [],
   "source": [
    "wcss_score = []\n",
    "\n",
    "for k in k_list:\n",
    "    inert = k.inertia_\n",
    "    wcss_score.append(inert)"
   ]
  },
  {
   "cell_type": "code",
   "execution_count": 9,
   "metadata": {},
   "outputs": [
    {
     "data": {
      "image/png": "[encoded data removed]",
      "text/plain": [
       "<Figure size 432x288 with 1 Axes>"
      ]
     },
     "metadata": {
      "needs_background": "light"
     },
     "output_type": "display_data"
    }
   ],
   "source": [
    "x = range(3, 16, 1)\n",
    "\n",
    "plt.plot(x, wcss_score)\n",
    "plt.xticks(x)\n",
    "plt.title('Within Cluster Sum of Squares  Score for Different Values of K (Unnormalized data)')\n",
    "plt.ylabel('WCSS')\n",
    "plt.xlabel('K=')\n",
    "plt.show()"
   ]
  },
  {
   "cell_type": "markdown",
   "metadata": {},
   "source": [
    "#### Normalized by row"
   ]
  },
  {
   "cell_type": "code",
   "execution_count": 10,
   "metadata": {},
   "outputs": [],
   "source": [
    "k_means_row_3 = KMeans(n_clusters=3, random_state=29).fit(pvt_nrow)\n",
    "k_means_row_4 = KMeans(n_clusters=4, random_state=29).fit(pvt_nrow)\n",
    "k_means_row_5 = KMeans(n_clusters=5, random_state=29).fit(pvt_nrow)\n",
    "k_means_row_6 = KMeans(n_clusters=6, random_state=29).fit(pvt_nrow)\n",
    "k_means_row_7 = KMeans(n_clusters=7, random_state=29).fit(pvt_nrow)\n",
    "k_means_row_8 = KMeans(n_clusters=8, random_state=29).fit(pvt_nrow)\n",
    "k_means_row_9 = KMeans(n_clusters=9, random_state=29).fit(pvt_nrow)\n",
    "k_means_row_10 = KMeans(n_clusters=10, random_state=29).fit(pvt_nrow)\n",
    "k_means_row_11 = KMeans(n_clusters=11, random_state=29).fit(pvt_nrow)\n",
    "k_means_row_12 = KMeans(n_clusters=12, random_state=29).fit(pvt_nrow)\n",
    "k_means_row_13 = KMeans(n_clusters=13, random_state=29).fit(pvt_nrow)\n",
    "k_means_row_14 = KMeans(n_clusters=14, random_state=29).fit(pvt_nrow)\n",
    "k_means_row_15 = KMeans(n_clusters=15, random_state=29).fit(pvt_nrow)\n",
    "\n",
    "k_list_row = [k_means_row_3, k_means_row_4, k_means_row_5, k_means_row_6, k_means_row_7, k_means_row_8, \n",
    "              k_means_row_9, k_means_row_10, k_means_row_11, k_means_row_12, k_means_row_13, k_means_row_14, \n",
    "              k_means_row_15]"
   ]
  },
  {
   "cell_type": "code",
   "execution_count": 11,
   "metadata": {},
   "outputs": [],
   "source": [
    "CH_score_row = []\n",
    "\n",
    "for k in k_list_row:\n",
    "    lab = k.labels_\n",
    "    ch = calinski_harabasz_score(pvt_nrow, lab)\n",
    "    CH_score_row.append(ch)"
   ]
  },
  {
   "cell_type": "code",
   "execution_count": 12,
   "metadata": {},
   "outputs": [
    {
     "data": {
      "image/png": "[encoded data removed]",
      "text/plain": [
       "<Figure size 432x288 with 1 Axes>"
      ]
     },
     "metadata": {
      "needs_background": "light"
     },
     "output_type": "display_data"
    }
   ],
   "source": [
    "x = range(3, 16, 1)\n",
    "\n",
    "plt.plot(x, CH_score_row)\n",
    "plt.xticks(x)\n",
    "plt.title('Calinski Harabasz Scores for Different Values of K')\n",
    "plt.ylabel('Variance Ratio')\n",
    "plt.xlabel('K=')\n",
    "plt.show()"
   ]
  },
  {
   "cell_type": "code",
   "execution_count": 13,
   "metadata": {},
   "outputs": [],
   "source": [
    "wcss_score_row = []\n",
    "\n",
    "for k in k_list_row:\n",
    "    inert = k.inertia_\n",
    "    wcss_score_row.append(inert)"
   ]
  },
  {
   "cell_type": "code",
   "execution_count": 14,
   "metadata": {},
   "outputs": [
    {
     "data": {
      "image/png": "[encoded data removed]",
      "text/plain": [
       "<Figure size 432x288 with 1 Axes>"
      ]
     },
     "metadata": {
      "needs_background": "light"
     },
     "output_type": "display_data"
    }
   ],
   "source": [
    "x = range(3, 16, 1)\n",
    "\n",
    "plt.plot(x, wcss_score_row)\n",
    "plt.xticks(x)\n",
    "plt.title('Within Cluster Sum of Squares  Score for Different Values of K')\n",
    "plt.ylabel('WCSS')\n",
    "plt.xlabel('K=')\n",
    "plt.show()"
   ]
  },
  {
   "cell_type": "markdown",
   "metadata": {},
   "source": [
    "#### Normalized by column"
   ]
  },
  {
   "cell_type": "code",
   "execution_count": 15,
   "metadata": {},
   "outputs": [],
   "source": [
    "k_means_col_3 = KMeans(n_clusters=3, random_state=29).fit(pvt_ncol)\n",
    "k_means_col_4 = KMeans(n_clusters=4, random_state=29).fit(pvt_ncol)\n",
    "k_means_col_5 = KMeans(n_clusters=5, random_state=29).fit(pvt_ncol)\n",
    "k_means_col_6 = KMeans(n_clusters=6, random_state=29).fit(pvt_ncol)\n",
    "k_means_col_7 = KMeans(n_clusters=7, random_state=29).fit(pvt_ncol)\n",
    "k_means_col_8 = KMeans(n_clusters=8, random_state=29).fit(pvt_ncol)\n",
    "k_means_col_9 = KMeans(n_clusters=9, random_state=29).fit(pvt_ncol)\n",
    "k_means_col_10 = KMeans(n_clusters=10, random_state=29).fit(pvt_ncol)\n",
    "k_means_col_11 = KMeans(n_clusters=11, random_state=29).fit(pvt_ncol)\n",
    "k_means_col_12 = KMeans(n_clusters=12, random_state=29).fit(pvt_ncol)\n",
    "k_means_col_13 = KMeans(n_clusters=13, random_state=29).fit(pvt_ncol)\n",
    "k_means_col_14 = KMeans(n_clusters=14, random_state=29).fit(pvt_ncol)\n",
    "k_means_col_15 = KMeans(n_clusters=15, random_state=29).fit(pvt_ncol)\n",
    "\n",
    "k_list_col = [k_means_col_3, k_means_col_4, k_means_col_5, k_means_col_6, k_means_col_7, k_means_col_8, \n",
    "              k_means_col_9, k_means_col_10, k_means_col_11, k_means_col_12, k_means_col_13, k_means_col_14, \n",
    "              k_means_col_15]"
   ]
  },
  {
   "cell_type": "code",
   "execution_count": 16,
   "metadata": {},
   "outputs": [],
   "source": [
    "CH_score_col = []\n",
    "\n",
    "for k in k_list_col:\n",
    "    lab = k.labels_\n",
    "    ch = calinski_harabasz_score(pvt_ncol, lab)\n",
    "    CH_score_col.append(ch)"
   ]
  },
  {
   "cell_type": "code",
   "execution_count": 17,
   "metadata": {},
   "outputs": [
    {
     "data": {
      "image/png": "[encoded data removed]",
      "text/plain": [
       "<Figure size 432x288 with 1 Axes>"
      ]
     },
     "metadata": {
      "needs_background": "light"
     },
     "output_type": "display_data"
    }
   ],
   "source": [
    "x = range(3, 16, 1)\n",
    "\n",
    "plt.plot(x, CH_score_col)\n",
    "plt.xticks(x)\n",
    "plt.title('Calinski Harabasz Scores for Different Values of K')\n",
    "plt.ylabel('Variance Ratio')\n",
    "plt.xlabel('K=')\n",
    "plt.show()"
   ]
  },
  {
   "cell_type": "code",
   "execution_count": 18,
   "metadata": {},
   "outputs": [],
   "source": [
    "wcss_score_col = []\n",
    "\n",
    "for k in k_list_col:\n",
    "    inert = k.inertia_\n",
    "    wcss_score_col.append(inert)"
   ]
  },
  {
   "cell_type": "code",
   "execution_count": 19,
   "metadata": {
    "scrolled": true
   },
   "outputs": [
    {
     "data": {
      "image/png": "[encoded data removed]",
      "text/plain": [
       "<Figure size 432x288 with 1 Axes>"
      ]
     },
     "metadata": {
      "needs_background": "light"
     },
     "output_type": "display_data"
    }
   ],
   "source": [
    "x = range(3, 16, 1)\n",
    "\n",
    "plt.plot(x, wcss_score_col)\n",
    "plt.xticks(x)\n",
    "plt.title('Within Cluster Sum of Squares  Score for Different Values of K')\n",
    "plt.ylabel('WCSS')\n",
    "plt.xlabel('K=')\n",
    "plt.show()"
   ]
  },
  {
   "cell_type": "markdown",
   "metadata": {},
   "source": [
    "#### Normalized by row sum"
   ]
  },
  {
   "cell_type": "code",
   "execution_count": 20,
   "metadata": {},
   "outputs": [],
   "source": [
    "k_means_nrs_3 = KMeans(n_clusters=3, random_state=29).fit(pvt_nrs)\n",
    "k_means_nrs_4 = KMeans(n_clusters=4, random_state=29).fit(pvt_nrs)\n",
    "k_means_nrs_5 = KMeans(n_clusters=5, random_state=29).fit(pvt_nrs)\n",
    "k_means_nrs_6 = KMeans(n_clusters=6, random_state=29).fit(pvt_nrs)\n",
    "k_means_nrs_7 = KMeans(n_clusters=7, random_state=29).fit(pvt_nrs)\n",
    "k_means_nrs_8 = KMeans(n_clusters=8, random_state=29).fit(pvt_nrs)\n",
    "k_means_nrs_9 = KMeans(n_clusters=9, random_state=29).fit(pvt_nrs)\n",
    "k_means_nrs_10 = KMeans(n_clusters=10, random_state=29).fit(pvt_nrs)\n",
    "k_means_nrs_11 = KMeans(n_clusters=11, random_state=29).fit(pvt_nrs)\n",
    "k_means_nrs_12 = KMeans(n_clusters=12, random_state=29).fit(pvt_nrs)\n",
    "k_means_nrs_13 = KMeans(n_clusters=13, random_state=29).fit(pvt_nrs)\n",
    "k_means_nrs_14 = KMeans(n_clusters=14, random_state=29).fit(pvt_nrs)\n",
    "k_means_nrs_15 = KMeans(n_clusters=15, random_state=29).fit(pvt_nrs)\n",
    "\n",
    "k_list_nrs = [k_means_nrs_3, k_means_nrs_4, k_means_nrs_5, k_means_nrs_6, k_means_nrs_7, k_means_nrs_8, \n",
    "              k_means_nrs_9, k_means_nrs_10, k_means_nrs_11, k_means_nrs_12, k_means_nrs_13, k_means_nrs_14, \n",
    "              k_means_nrs_15]"
   ]
  },
  {
   "cell_type": "code",
   "execution_count": 21,
   "metadata": {},
   "outputs": [],
   "source": [
    "CH_score_nrs = []\n",
    "\n",
    "for k in k_list_nrs:\n",
    "    lab = k.labels_\n",
    "    ch = calinski_harabasz_score(pvt_nrs, lab)\n",
    "    CH_score_nrs.append(ch)"
   ]
  },
  {
   "cell_type": "code",
   "execution_count": 22,
   "metadata": {},
   "outputs": [
    {
     "data": {
      "image/png": "[encoded data removed]",
      "text/plain": [
       "<Figure size 432x288 with 1 Axes>"
      ]
     },
     "metadata": {
      "needs_background": "light"
     },
     "output_type": "display_data"
    }
   ],
   "source": [
    "x = range(3, 16, 1)\n",
    "\n",
    "plt.plot(x, CH_score_nrs)\n",
    "plt.xticks(x)\n",
    "plt.title('Calinski Harabasz Scores for Different Values of K (Normalized data)')\n",
    "plt.ylabel('Variance Ratio')\n",
    "plt.xlabel('K=')\n",
    "plt.show()"
   ]
  },
  {
   "cell_type": "code",
   "execution_count": 23,
   "metadata": {},
   "outputs": [],
   "source": [
    "wcss_score_nrs = []\n",
    "\n",
    "for k in k_list_nrs:\n",
    "    inert = k.inertia_\n",
    "    wcss_score_nrs.append(inert)"
   ]
  },
  {
   "cell_type": "code",
   "execution_count": 24,
   "metadata": {},
   "outputs": [
    {
     "data": {
      "image/png": "[encoded data removed]",
      "text/plain": [
       "<Figure size 432x288 with 1 Axes>"
      ]
     },
     "metadata": {
      "needs_background": "light"
     },
     "output_type": "display_data"
    }
   ],
   "source": [
    "x = range(3, 16, 1)\n",
    "\n",
    "plt.plot(x, wcss_score_nrs)\n",
    "plt.xticks(x)\n",
    "plt.title('Within Cluster Sum of Squares  Score for Different Values of K (Normalized data)')\n",
    "plt.ylabel('WCSS')\n",
    "plt.xlabel('K=')\n",
    "plt.show()"
   ]
  },
  {
   "cell_type": "markdown",
   "metadata": {},
   "source": [
    "### Conclusions\n",
    "- Unnormalized:  optimized at 10 clusters \n",
    "- Normalized by row:  optimized at 11 clusters\n",
    "- Normalized by column:  optimized at 13 clusters\n",
    "- Normalized by row sum:  optimized at 9 or 10 clusters\n",
    "\n",
    "- MOVING FORWARD, I WILL FOCUS ON JUST THE UNNORMALIZED DATA AND THE NORMALIZED BY ROW SUM DATA, as the optimal cluster count for these datasets most closely fits my use case"
   ]
  },
  {
   "cell_type": "markdown",
   "metadata": {},
   "source": [
    "### EDA 3:  Dendrograms of clustering algorithm output\n",
    "#### Unnormalized data"
   ]
  },
  {
   "cell_type": "code",
   "execution_count": 25,
   "metadata": {},
   "outputs": [],
   "source": [
    "linkage_ward = ward(pvt)\n",
    "linkage_avg = average(pvt)\n",
    "linkage_comp = complete(pvt)"
   ]
  },
  {
   "cell_type": "code",
   "execution_count": 26,
   "metadata": {},
   "outputs": [
    {
     "data": {
      "image/png": "[encoded data removed]",
      "text/plain": [
       "<Figure size 1440x360 with 1 Axes>"
      ]
     },
     "metadata": {
      "needs_background": "light"
     },
     "output_type": "display_data"
    }
   ],
   "source": [
    "# Formatted for ppt presentation\n",
    "fig = plt.figure(figsize=(20, 5))\n",
    "ax = fig.gca()\n",
    "dendrogram(linkage_ward, ax=ax, truncate_mode='lastp', p=9)\n",
    "plt.xlabel('City')\n",
    "plt.ylabel('Cluster distance')\n",
    "plt.title('Hierarchical Agglomerative Clustering; Linkage = Ward (9 clusters)');"
   ]
  },
  {
   "cell_type": "code",
   "execution_count": 27,
   "metadata": {},
   "outputs": [
    {
     "data": {
      "image/png": "[encoded data removed]",
      "text/plain": [
       "<Figure size 864x360 with 1 Axes>"
      ]
     },
     "metadata": {
      "needs_background": "light"
     },
     "output_type": "display_data"
    }
   ],
   "source": [
    "fig = plt.figure(figsize=(12, 5))\n",
    "ax = fig.gca()\n",
    "dendrogram(linkage_ward, ax=ax, truncate_mode='lastp', p=9)\n",
    "plt.xlabel('City; (Count of cities)')\n",
    "plt.ylabel('Cluster distance')\n",
    "plt.title('Hierarchical Agglomerative Clustering; Linkage = Ward (9 clusters)');"
   ]
  },
  {
   "cell_type": "code",
   "execution_count": 28,
   "metadata": {},
   "outputs": [
    {
     "data": {
      "image/png": "[encoded data removed]",
      "text/plain": [
       "<Figure size 864x360 with 1 Axes>"
      ]
     },
     "metadata": {
      "needs_background": "light"
     },
     "output_type": "display_data"
    }
   ],
   "source": [
    "fig = plt.figure(figsize=(12, 5))\n",
    "ax = fig.gca()\n",
    "dendrogram(linkage_avg, ax=ax, truncate_mode='lastp', p=13)\n",
    "plt.xlabel('Data index; (Count of indices)')\n",
    "plt.ylabel('Cluster distance')\n",
    "plt.title('Hierarchical Agglomerative Clustering; Linkage = Average (13 clusters)');"
   ]
  },
  {
   "cell_type": "code",
   "execution_count": 29,
   "metadata": {},
   "outputs": [
    {
     "data": {
      "image/png": "[encoded data removed]",
      "text/plain": [
       "<Figure size 864x360 with 1 Axes>"
      ]
     },
     "metadata": {
      "needs_background": "light"
     },
     "output_type": "display_data"
    }
   ],
   "source": [
    "fig = plt.figure(figsize=(12, 5))\n",
    "ax = fig.gca()\n",
    "dendrogram(linkage_comp, ax=ax, truncate_mode='lastp', p=13)\n",
    "plt.xlabel('Data index; (Count of indices)')\n",
    "plt.ylabel('Cluster distance')\n",
    "plt.title('Hierarchical Agglomerative Clustering; Linkage = Complete (13 clusters)');"
   ]
  },
  {
   "cell_type": "code",
   "execution_count": 30,
   "metadata": {},
   "outputs": [],
   "source": [
    "agg_comp = AgglomerativeClustering(linkage ='complete', n_clusters=10)\n",
    "agg_avg = AgglomerativeClustering(linkage ='average', n_clusters=10)\n",
    "agg_ward = AgglomerativeClustering(linkage ='ward', n_clusters=10)\n",
    "\n",
    "as_comp = agg_comp.fit_predict(pvt)\n",
    "as_avg = agg_avg.fit_predict(pvt)\n",
    "as_ward = agg_ward.fit_predict(pvt)"
   ]
  },
  {
   "cell_type": "markdown",
   "metadata": {},
   "source": [
    "#### Normalized by row sum"
   ]
  },
  {
   "cell_type": "code",
   "execution_count": 31,
   "metadata": {},
   "outputs": [],
   "source": [
    "linkage_ward_nrs = ward(pvt_nrs)\n",
    "linkage_avg_nrs = average(pvt_nrs)\n",
    "linkage_comp_nrs = complete(pvt_nrs)"
   ]
  },
  {
   "cell_type": "code",
   "execution_count": 32,
   "metadata": {
    "scrolled": true
   },
   "outputs": [
    {
     "data": {
      "image/png": "[encoded data removed]",
      "text/plain": [
       "<Figure size 1440x360 with 1 Axes>"
      ]
     },
     "metadata": {
      "needs_background": "light"
     },
     "output_type": "display_data"
    }
   ],
   "source": [
    "# Formatted for ppt presentation\n",
    "\n",
    "fig = plt.figure(figsize=(20, 5))\n",
    "ax = fig.gca()\n",
    "dendrogram(linkage_ward_nrs, ax=ax, truncate_mode='lastp', p=9)\n",
    "plt.xlabel('City')\n",
    "plt.ylabel('Cluster distance')\n",
    "plt.title('Hierarchical Agglomerative Clustering; Linkage = Ward (9 clusters)');"
   ]
  },
  {
   "cell_type": "code",
   "execution_count": 33,
   "metadata": {},
   "outputs": [
    {
     "data": {
      "image/png": "[encoded data removed]",
      "text/plain": [
       "<Figure size 864x360 with 1 Axes>"
      ]
     },
     "metadata": {
      "needs_background": "light"
     },
     "output_type": "display_data"
    }
   ],
   "source": [
    "fig = plt.figure(figsize=(12, 5))\n",
    "ax = fig.gca()\n",
    "dendrogram(linkage_ward_nrs, ax=ax, truncate_mode='lastp', p=9)\n",
    "plt.xlabel('Data index; (Count of indices)')\n",
    "plt.ylabel('Cluster distance')\n",
    "plt.title('Hierarchical Agglomerative Clustering; Linkage = Ward (9 clusters)');"
   ]
  },
  {
   "cell_type": "code",
   "execution_count": 34,
   "metadata": {},
   "outputs": [
    {
     "data": {
      "image/png": "[encoded data removed]",
      "text/plain": [
       "<Figure size 864x360 with 1 Axes>"
      ]
     },
     "metadata": {
      "needs_background": "light"
     },
     "output_type": "display_data"
    }
   ],
   "source": [
    "fig = plt.figure(figsize=(12, 5))\n",
    "ax = fig.gca()\n",
    "dendrogram(linkage_avg_nrs, ax=ax, truncate_mode='lastp', p=9)\n",
    "plt.xlabel('Data index; (Count of indices)')\n",
    "plt.ylabel('Cluster distance')\n",
    "plt.title('Hierarchical Agglomerative Clustering; Linkage = Average (9 clusters)');"
   ]
  },
  {
   "cell_type": "code",
   "execution_count": 35,
   "metadata": {},
   "outputs": [
    {
     "data": {
      "image/png": "[encoded data removed]",
      "text/plain": [
       "<Figure size 864x360 with 1 Axes>"
      ]
     },
     "metadata": {
      "needs_background": "light"
     },
     "output_type": "display_data"
    }
   ],
   "source": [
    "fig = plt.figure(figsize=(12, 5))\n",
    "ax = fig.gca()\n",
    "dendrogram(linkage_comp_nrs, ax=ax, truncate_mode='lastp', p=9)\n",
    "plt.xlabel('Data index; (Count of indices)')\n",
    "plt.ylabel('Cluster distance')\n",
    "plt.title('Hierarchical Agglomerative Clustering; Linkage = Complete (9 clusters)');"
   ]
  },
  {
   "cell_type": "code",
   "execution_count": 36,
   "metadata": {},
   "outputs": [],
   "source": [
    "agg_comp_9 = AgglomerativeClustering(linkage ='complete', n_clusters=9)\n",
    "agg_avg_9 = AgglomerativeClustering(linkage ='average', n_clusters=9)\n",
    "agg_ward_9 = AgglomerativeClustering(linkage ='ward', n_clusters=9)\n",
    "\n",
    "agg_comp_10 = AgglomerativeClustering(linkage ='complete', n_clusters=10)\n",
    "agg_avg_10 = AgglomerativeClustering(linkage ='average', n_clusters=10)\n",
    "agg_ward_10 = AgglomerativeClustering(linkage ='ward', n_clusters=10)\n",
    "\n",
    "as_comp_9 = agg_comp_9.fit_predict(pvt_nrs)\n",
    "as_avg_9 = agg_avg_9.fit_predict(pvt_nrs)\n",
    "as_ward_9 = agg_ward_9.fit_predict(pvt_nrs)\n",
    "\n",
    "as_comp_10 = agg_comp_10.fit_predict(pvt_nrs)\n",
    "as_avg_10 = agg_avg_10.fit_predict(pvt_nrs)\n",
    "as_ward_10 = agg_ward_10.fit_predict(pvt_nrs)"
   ]
  },
  {
   "cell_type": "markdown",
   "metadata": {},
   "source": [
    "### Preliminary conclusions\n",
    "- Normalized by row sum results in the most evenly distributed clusters by cluster size\n",
    "- Ward and Complete were the two linkage criteria that resulted in the most evenly distributed clusters by cluster size\n",
    "- Hard to tell whether 9 or 10 clusters is optimal"
   ]
  },
  {
   "cell_type": "markdown",
   "metadata": {},
   "source": [
    "## EDA 4:  Compare results"
   ]
  },
  {
   "cell_type": "code",
   "execution_count": 37,
   "metadata": {},
   "outputs": [],
   "source": [
    "labels_kmeans_9 = k_means_nrs_9.labels_\n",
    "labels_comp_9 = agg_comp_9.labels_\n",
    "labels_ward_9 = agg_ward_9.labels_\n",
    "\n",
    "labels_kmeans_10 = k_means_nrs_10.labels_\n",
    "labels_comp_10 = agg_comp_10.labels_\n",
    "labels_ward_10 = agg_ward_10.labels_\n",
    "\n",
    "labels = [labels_kmeans_9, labels_comp_9, labels_ward_9, labels_kmeans_10, labels_comp_10, labels_ward_10]"
   ]
  },
  {
   "cell_type": "code",
   "execution_count": 38,
   "metadata": {},
   "outputs": [],
   "source": [
    "chscores = []\n",
    "silscores = []\n",
    "descriptions = [\"KM (9 clusters)\", \"HA-Complete (9 clusters)\", \"HA-Ward (9 clusters)\", \n",
    "                \"KM (10 clusters)\", \"HA-Complete (10 clusters)\", \"HA-Ward (10 clusters)\"]\n",
    "\n",
    "for n, l in enumerate(labels):\n",
    "    chscore = metrics.calinski_harabasz_score(pvt_nrs, l)\n",
    "    silscore = metrics.silhouette_score(pvt_nrs, l)\n",
    "    chscores.append((descriptions[n], chscore))\n",
    "    silscores.append((descriptions[n], silscore))"
   ]
  },
  {
   "cell_type": "code",
   "execution_count": 39,
   "metadata": {},
   "outputs": [
    {
     "data": {
      "text/plain": [
       "[('KM (9 clusters)', 15.911100403131114),\n",
       " ('HA-Complete (9 clusters)', 13.983659088678314),\n",
       " ('HA-Ward (9 clusters)', 15.227261248794647),\n",
       " ('KM (10 clusters)', 15.934716502114483),\n",
       " ('HA-Complete (10 clusters)', 14.492797926331667),\n",
       " ('HA-Ward (10 clusters)', 15.595316544743525)]"
      ]
     },
     "execution_count": 39,
     "metadata": {},
     "output_type": "execute_result"
    }
   ],
   "source": [
    "chscores"
   ]
  },
  {
   "cell_type": "code",
   "execution_count": 40,
   "metadata": {},
   "outputs": [],
   "source": [
    "dataset = []\n",
    "chscore = []\n",
    "\n",
    "for i in chscores:\n",
    "    data = i[0]\n",
    "    score = i[1]\n",
    "    dataset.append(data)\n",
    "    chscore.append(score)"
   ]
  },
  {
   "cell_type": "code",
   "execution_count": 41,
   "metadata": {},
   "outputs": [
    {
     "data": {
      "text/plain": [
       "[('KM (9 clusters)', 0.2807915818595869),\n",
       " ('HA-Complete (9 clusters)', 0.24346520949165262),\n",
       " ('HA-Ward (9 clusters)', 0.29132870020595203),\n",
       " ('KM (10 clusters)', 0.2623824854604281),\n",
       " ('HA-Complete (10 clusters)', 0.2540489946511962),\n",
       " ('HA-Ward (10 clusters)', 0.2787829074183221)]"
      ]
     },
     "execution_count": 41,
     "metadata": {},
     "output_type": "execute_result"
    }
   ],
   "source": [
    "silscores"
   ]
  },
  {
   "cell_type": "code",
   "execution_count": 42,
   "metadata": {},
   "outputs": [],
   "source": [
    "silscore = []\n",
    "\n",
    "for i in silscores:\n",
    "    score = i[1]\n",
    "    silscore.append(score)"
   ]
  },
  {
   "cell_type": "code",
   "execution_count": 43,
   "metadata": {
    "scrolled": false
   },
   "outputs": [
    {
     "data": {
      "image/png": "[encoded data removed]",
      "text/plain": [
       "<Figure size 1080x360 with 1 Axes>"
      ]
     },
     "metadata": {
      "needs_background": "light"
     },
     "output_type": "display_data"
    }
   ],
   "source": [
    "plt.figure(figsize = (15, 5))\n",
    "plt.bar(dataset, chscore, width=.5)\n",
    "plt.title('Calinski-Harabasz Score by Clustering Method')\n",
    "plt.ylabel('Score')\n",
    "ax = plt.gca()\n",
    "ax.set(ylim=(13, 17));"
   ]
  },
  {
   "cell_type": "code",
   "execution_count": 44,
   "metadata": {},
   "outputs": [
    {
     "data": {
      "text/plain": [
       "[(0.22, 0.3)]"
      ]
     },
     "execution_count": 44,
     "metadata": {},
     "output_type": "execute_result"
    },
    {
     "data": {
      "image/png": "[encoded data removed]",
      "text/plain": [
       "<Figure size 1080x360 with 1 Axes>"
      ]
     },
     "metadata": {
      "needs_background": "light"
     },
     "output_type": "display_data"
    }
   ],
   "source": [
    "plt.figure(figsize = (15, 5))\n",
    "plt.bar(dataset, silscore, width=.5)\n",
    "plt.title('Silhouette Score by Clustering Method')\n",
    "plt.ylabel('Score')\n",
    "ax = plt.gca()\n",
    "ax.set(ylim=(.22, .3))"
   ]
  },
  {
   "cell_type": "markdown",
   "metadata": {},
   "source": [
    "### Conclusions\n",
    "- Heirarchical agglomerative clustering with the linkage function set to Complete performed the worst, regardless of cluster count\n",
    "- The Silhouette scores point towards 9 clusters as being the optimal grouping \n",
    "- The Calinski-Harabasz scores point towards 10 clusters as being the optimal grouping\n",
    "- Based on Silhouette score, HA-Ward with 9 clusters was the optimal \n",
    "- Based on the CH score, K-Means clustering with 10 clusters was the optimal \n",
    "\n",
    "\n",
    "### Business conclusions\n",
    "- Heirarchical agglomerative clustering resulted in more evenly distributed clusters (i.e. did not result in any clusters of 1); this makes HAC the better clustering method over K-Means clustering for this particular use case\n",
    "- Among HAC models, 9 clusters resulted in more optimal groupings than 10 clusters\n",
    "- Between the two HAC models, the model with linkage set to Ward scored far higher in both the Calinski-Harabasz score and the silhouette score, making HAC (linkage=Ward) the optimal model"
   ]
  },
  {
   "cell_type": "markdown",
   "metadata": {},
   "source": [
    "# EDA 5: Visualization of final clustering scores"
   ]
  },
  {
   "cell_type": "code",
   "execution_count": 45,
   "metadata": {},
   "outputs": [],
   "source": [
    "df_ward9 = pd.DataFrame(labels_ward_9, index=pvt_nrs.index, columns=['labels_ward_9'])\n",
    "df_ward10 = pd.DataFrame(labels_ward_10, index=pvt_nrs.index, columns=['labels_ward_10'])\n",
    "df_kmeans10 = pd.DataFrame(labels_kmeans_10, index=pvt_nrs.index, columns=['labels_kmeans_10'])"
   ]
  },
  {
   "cell_type": "code",
   "execution_count": 46,
   "metadata": {},
   "outputs": [],
   "source": [
    "df_lab_ward9 = pd.concat([pvt_nrs, df_ward9], axis=1)\n",
    "df_lab_ward10 = pd.concat([pvt_nrs, df_ward10], axis=1)\n",
    "df_lab_kmeans10 = pd.concat([pvt_nrs, df_kmeans10], axis=1)"
   ]
  },
  {
   "cell_type": "code",
   "execution_count": 47,
   "metadata": {},
   "outputs": [],
   "source": [
    "df_ward9_results = df_lab_ward9.groupby('labels_ward_9').mean().round(2)"
   ]
  },
  {
   "cell_type": "code",
   "execution_count": 48,
   "metadata": {},
   "outputs": [
    {
     "data": {
      "text/html": [
       "<div>\n",
       "<style scoped>\n",
       "    .dataframe tbody tr th:only-of-type {\n",
       "        vertical-align: middle;\n",
       "    }\n",
       "\n",
       "    .dataframe tbody tr th {\n",
       "        vertical-align: top;\n",
       "    }\n",
       "\n",
       "    .dataframe thead th {\n",
       "        text-align: right;\n",
       "    }\n",
       "</style>\n",
       "<table border=\"1\" class=\"dataframe\">\n",
       "  <thead>\n",
       "    <tr style=\"text-align: right;\">\n",
       "      <th></th>\n",
       "      <th>country</th>\n",
       "      <th>faith</th>\n",
       "      <th>hiphop</th>\n",
       "      <th>latin</th>\n",
       "      <th>pop</th>\n",
       "      <th>rock</th>\n",
       "    </tr>\n",
       "    <tr>\n",
       "      <th>labels_ward_9</th>\n",
       "      <th></th>\n",
       "      <th></th>\n",
       "      <th></th>\n",
       "      <th></th>\n",
       "      <th></th>\n",
       "      <th></th>\n",
       "    </tr>\n",
       "  </thead>\n",
       "  <tbody>\n",
       "    <tr>\n",
       "      <th>0</th>\n",
       "      <td>0.19</td>\n",
       "      <td>0.15</td>\n",
       "      <td>0.27</td>\n",
       "      <td>0.01</td>\n",
       "      <td>0.29</td>\n",
       "      <td>0.11</td>\n",
       "    </tr>\n",
       "    <tr>\n",
       "      <th>1</th>\n",
       "      <td>0.14</td>\n",
       "      <td>0.11</td>\n",
       "      <td>0.27</td>\n",
       "      <td>0.16</td>\n",
       "      <td>0.24</td>\n",
       "      <td>0.08</td>\n",
       "    </tr>\n",
       "    <tr>\n",
       "      <th>2</th>\n",
       "      <td>0.47</td>\n",
       "      <td>0.08</td>\n",
       "      <td>0.28</td>\n",
       "      <td>0.06</td>\n",
       "      <td>0.06</td>\n",
       "      <td>0.05</td>\n",
       "    </tr>\n",
       "    <tr>\n",
       "      <th>3</th>\n",
       "      <td>0.12</td>\n",
       "      <td>0.02</td>\n",
       "      <td>0.42</td>\n",
       "      <td>0.02</td>\n",
       "      <td>0.33</td>\n",
       "      <td>0.08</td>\n",
       "    </tr>\n",
       "    <tr>\n",
       "      <th>4</th>\n",
       "      <td>0.12</td>\n",
       "      <td>0.02</td>\n",
       "      <td>0.24</td>\n",
       "      <td>0.02</td>\n",
       "      <td>0.34</td>\n",
       "      <td>0.26</td>\n",
       "    </tr>\n",
       "    <tr>\n",
       "      <th>5</th>\n",
       "      <td>0.21</td>\n",
       "      <td>0.35</td>\n",
       "      <td>0.17</td>\n",
       "      <td>0.00</td>\n",
       "      <td>0.05</td>\n",
       "      <td>0.21</td>\n",
       "    </tr>\n",
       "    <tr>\n",
       "      <th>6</th>\n",
       "      <td>0.09</td>\n",
       "      <td>0.15</td>\n",
       "      <td>0.21</td>\n",
       "      <td>0.01</td>\n",
       "      <td>0.47</td>\n",
       "      <td>0.08</td>\n",
       "    </tr>\n",
       "    <tr>\n",
       "      <th>7</th>\n",
       "      <td>0.20</td>\n",
       "      <td>0.12</td>\n",
       "      <td>0.46</td>\n",
       "      <td>0.02</td>\n",
       "      <td>0.05</td>\n",
       "      <td>0.15</td>\n",
       "    </tr>\n",
       "    <tr>\n",
       "      <th>8</th>\n",
       "      <td>0.04</td>\n",
       "      <td>0.08</td>\n",
       "      <td>0.23</td>\n",
       "      <td>0.36</td>\n",
       "      <td>0.18</td>\n",
       "      <td>0.11</td>\n",
       "    </tr>\n",
       "  </tbody>\n",
       "</table>\n",
       "</div>"
      ],
      "text/plain": [
       "               country  faith  hiphop  latin   pop  rock\n",
       "labels_ward_9                                           \n",
       "0                 0.19   0.15    0.27   0.01  0.29  0.11\n",
       "1                 0.14   0.11    0.27   0.16  0.24  0.08\n",
       "2                 0.47   0.08    0.28   0.06  0.06  0.05\n",
       "3                 0.12   0.02    0.42   0.02  0.33  0.08\n",
       "4                 0.12   0.02    0.24   0.02  0.34  0.26\n",
       "5                 0.21   0.35    0.17   0.00  0.05  0.21\n",
       "6                 0.09   0.15    0.21   0.01  0.47  0.08\n",
       "7                 0.20   0.12    0.46   0.02  0.05  0.15\n",
       "8                 0.04   0.08    0.23   0.36  0.18  0.11"
      ]
     },
     "execution_count": 48,
     "metadata": {},
     "output_type": "execute_result"
    }
   ],
   "source": [
    "df_ward9_results"
   ]
  },
  {
   "cell_type": "code",
   "execution_count": 49,
   "metadata": {},
   "outputs": [],
   "source": [
    "clusters = []\n",
    "\n",
    "for i in range (0,9):\n",
    "    group = df_ward9_results.iloc[i]\n",
    "    clusters.append(group)"
   ]
  },
  {
   "cell_type": "code",
   "execution_count": 50,
   "metadata": {},
   "outputs": [],
   "source": [
    "cluster_archs = ['0: Alternative Pop', '1: Core Hip Hop', '2: Core Country', '3: Mainstream Hip Hop', '4: Rock', \n",
    "                 '5: Christian Rock', '6: Core Pop', '7: Progressive Country', '8: Latin']"
   ]
  },
  {
   "cell_type": "code",
   "execution_count": 67,
   "metadata": {},
   "outputs": [
    {
     "data": {
      "image/png": "[encoded data removed]",
      "text/plain": [
       "<Figure size 1440x1440 with 9 Axes>"
      ]
     },
     "metadata": {
      "needs_background": "light"
     },
     "output_type": "display_data"
    }
   ],
   "source": [
    "plt.figure(figsize=(20,20))\n",
    "plt.suptitle('Final Cluster Scores, by Genre', y=.92, fontsize=30)\n",
    "\n",
    "for n, c in enumerate(clusters):\n",
    "    num = n+1\n",
    "    plt.subplot(3,3,num)\n",
    "    plt.bar(x=df_ward9_results.columns, height=c, color=['red', 'sienna', 'gold', 'green', 'blue', 'purple'])\n",
    "    title = cluster_archs[n]\n",
    "    plt.title(title)\n",
    "    "
   ]
  },
  {
   "cell_type": "code",
   "execution_count": null,
   "metadata": {},
   "outputs": [],
   "source": []
  }
 ],
 "metadata": {
  "kernelspec": {
   "display_name": "learn-env",
   "language": "python",
   "name": "learn-env"
  },
  "language_info": {
   "codemirror_mode": {
    "name": "ipython",
    "version": 3
   },
   "file_extension": ".py",
   "mimetype": "text/x-python",
   "name": "python",
   "nbconvert_exporter": "python",
   "pygments_lexer": "ipython3",
   "version": "3.6.9"
  },
  "toc": {
   "base_numbering": 1,
   "nav_menu": {},
   "number_sections": true,
   "sideBar": true,
   "skip_h1_title": false,
   "title_cell": "Table of Contents",
   "title_sidebar": "Contents",
   "toc_cell": false,
   "toc_position": {
    "height": "calc(100% - 180px)",
    "left": "10px",
    "top": "150px",
    "width": "263px"
   },
   "toc_section_display": true,
   "toc_window_display": true
  },
  "varInspector": {
   "cols": {
    "lenName": 16,
    "lenType": 16,
    "lenVar": 40
   },
   "kernels_config": {
    "python": {
     "delete_cmd_postfix": "",
     "delete_cmd_prefix": "del ",
     "library": "var_list.py",
     "varRefreshCmd": "print(var_dic_list())"
    },
    "r": {
     "delete_cmd_postfix": ") ",
     "delete_cmd_prefix": "rm(",
     "library": "var_list.r",
     "varRefreshCmd": "cat(var_dic_list()) "
    }
   },
   "types_to_exclude": [
    "module",
    "function",
    "builtin_function_or_method",
    "instance",
    "_Feature"
   ],
   "window_display": false
  }
 },
 "nbformat": 4,
 "nbformat_minor": 2
}
